{
 "cells": [
  {
   "cell_type": "markdown",
   "id": "704263df",
   "metadata": {},
   "source": [
    "## Pacote NumPy\n",
    "\n",
    "NumPy => Pyhton Numérico\n",
    "\n",
    "Alguns recursos encontrados no NumPy\n",
    "\n",
    "* ndarray => um array multidimensional eficaz que oferece operações aritméticas rápidas, orientadas a arrays, e \n",
    "recursos flexíveis de broadcasting;\n",
    "\n",
    "* funções matemáticas para operações rápidas em arrays de dados inteiros, sem que seja necessário escrever laços;\n",
    "\n",
    "* ferramentas para ler/escrever dados de array em disco e trabalhar com arquivos mapeados na memória;\n",
    "\n",
    "* recursos para álgebra linear, geração de números aleatórios e transformadas de Fourier;\n",
    "\n",
    "* Uma API C para conectar o NumPy a bibliotecas escritas em C, C++ ou Fortran;"
   ]
  },
  {
   "cell_type": "code",
   "execution_count": 1,
   "id": "58eedbdd",
   "metadata": {},
   "outputs": [],
   "source": [
    "import numpy as np"
   ]
  },
  {
   "cell_type": "markdown",
   "id": "f788e56f",
   "metadata": {},
   "source": [
    "##### Os Algoritmos baseados em NumPy geralmente são de 10 a 100 vezes mais rápidos do que suas contrapartidas em Python \n",
    "puro, além de utilizarem significativamente menos memória."
   ]
  },
  {
   "cell_type": "code",
   "execution_count": 2,
   "id": "ef3f1c96",
   "metadata": {},
   "outputs": [],
   "source": [
    "my_arr = np.arange(1000000)"
   ]
  },
  {
   "cell_type": "code",
   "execution_count": 3,
   "id": "95b4125b",
   "metadata": {},
   "outputs": [],
   "source": [
    "my_list = list(range(1000000))"
   ]
  },
  {
   "cell_type": "code",
   "execution_count": 4,
   "id": "6e21d92f",
   "metadata": {},
   "outputs": [
    {
     "name": "stdout",
     "output_type": "stream",
     "text": [
      "CPU times: user 32.6 ms, sys: 15.4 ms, total: 48 ms\n",
      "Wall time: 47.1 ms\n"
     ]
    }
   ],
   "source": [
    "%time for _ in (range(10)): my_arr2 = my_arr * 2"
   ]
  },
  {
   "cell_type": "code",
   "execution_count": 5,
   "id": "26f08284",
   "metadata": {},
   "outputs": [
    {
     "name": "stdout",
     "output_type": "stream",
     "text": [
      "CPU times: user 1.06 s, sys: 256 ms, total: 1.32 s\n",
      "Wall time: 1.31 s\n"
     ]
    }
   ],
   "source": [
    "%time for _ in range(10): my_list2 = [x * 2 for x in my_list]"
   ]
  },
  {
   "cell_type": "markdown",
   "id": "d0e95b09",
   "metadata": {},
   "source": [
    "## O ndarray do NumPy: um objeto array multidimensional"
   ]
  },
  {
   "cell_type": "code",
   "execution_count": 6,
   "id": "3bcc77d4",
   "metadata": {},
   "outputs": [],
   "source": [
    "import numpy as np"
   ]
  },
  {
   "cell_type": "code",
   "execution_count": 7,
   "id": "f9d39f07",
   "metadata": {},
   "outputs": [],
   "source": [
    "# Gera alguns dados aleatórios\n",
    "data = np.random.randn(2, 3)"
   ]
  },
  {
   "cell_type": "code",
   "execution_count": 8,
   "id": "c8da711c",
   "metadata": {},
   "outputs": [
    {
     "data": {
      "text/plain": [
       "array([[ 0.13198007, -1.27597696, -0.43196908],\n",
       "       [-0.4974335 ,  0.87442286,  0.25587395]])"
      ]
     },
     "execution_count": 8,
     "metadata": {},
     "output_type": "execute_result"
    }
   ],
   "source": [
    "data"
   ]
  },
  {
   "cell_type": "code",
   "execution_count": 9,
   "id": "5bdfc8a8",
   "metadata": {},
   "outputs": [
    {
     "data": {
      "text/plain": [
       "array([[  1.31980065, -12.75976964,  -4.31969082],\n",
       "       [ -4.97433502,   8.74422858,   2.55873951]])"
      ]
     },
     "execution_count": 9,
     "metadata": {},
     "output_type": "execute_result"
    }
   ],
   "source": [
    "# Escreverei operações matemáticas com data:\n",
    "data * 10"
   ]
  },
  {
   "cell_type": "code",
   "execution_count": 10,
   "id": "b5dccc9d",
   "metadata": {},
   "outputs": [
    {
     "data": {
      "text/plain": [
       "array([[ 0.26396013, -2.55195393, -0.86393816],\n",
       "       [-0.994867  ,  1.74884572,  0.5117479 ]])"
      ]
     },
     "execution_count": 10,
     "metadata": {},
     "output_type": "execute_result"
    }
   ],
   "source": [
    "data + data"
   ]
  },
  {
   "cell_type": "markdown",
   "id": "67e85b7e",
   "metadata": {},
   "source": [
    "## Um ndarray é um contêiner genérico multidimensional para dados homogênos:"
   ]
  },
  {
   "cell_type": "code",
   "execution_count": 11,
   "id": "951f38c2",
   "metadata": {},
   "outputs": [
    {
     "data": {
      "text/plain": [
       "(2, 3)"
      ]
     },
     "execution_count": 11,
     "metadata": {},
     "output_type": "execute_result"
    }
   ],
   "source": [
    "data.shape"
   ]
  },
  {
   "cell_type": "code",
   "execution_count": 12,
   "id": "4f75f444",
   "metadata": {},
   "outputs": [
    {
     "data": {
      "text/plain": [
       "dtype('float64')"
      ]
     },
     "execution_count": 12,
     "metadata": {},
     "output_type": "execute_result"
    }
   ],
   "source": [
    "data.dtype"
   ]
  },
  {
   "cell_type": "markdown",
   "id": "9a4f81ad",
   "metadata": {},
   "source": [
    "## Criando um ndarray\n",
    "\n",
    "A maneira fácil de criar um array é usar a função array. Ela aceita qualquer objeto do tipo sequência \n",
    "(incluindo outros arrays) e gera um novo array NumPy contendo os dados recebidos. "
   ]
  },
  {
   "cell_type": "code",
   "execution_count": 13,
   "id": "2875d7e2",
   "metadata": {},
   "outputs": [],
   "source": [
    "# Por exemplo, uma lista é uma boa candidata para a conversão\n",
    "data1 = [6, 7.5, 8, 0, 1]"
   ]
  },
  {
   "cell_type": "code",
   "execution_count": 14,
   "id": "a8fd2492",
   "metadata": {},
   "outputs": [],
   "source": [
    "arr1 = np.array(data1)"
   ]
  },
  {
   "cell_type": "code",
   "execution_count": 15,
   "id": "c0e50435",
   "metadata": {},
   "outputs": [
    {
     "data": {
      "text/plain": [
       "array([6. , 7.5, 8. , 0. , 1. ])"
      ]
     },
     "execution_count": 15,
     "metadata": {},
     "output_type": "execute_result"
    }
   ],
   "source": [
    "arr1"
   ]
  },
  {
   "cell_type": "code",
   "execution_count": 16,
   "id": "4ca97585",
   "metadata": {},
   "outputs": [],
   "source": [
    "# Sequências aninhadas, como uma lista de listas de mesmo tamanho, serão convertidas em um array multidimensional\n",
    "\n",
    "data2 = [[1, 2, 3, 4], [5, 6, 7, 8]]"
   ]
  },
  {
   "cell_type": "code",
   "execution_count": 17,
   "id": "e41e8ddb",
   "metadata": {},
   "outputs": [],
   "source": [
    "arr2 = np.array(data2)"
   ]
  },
  {
   "cell_type": "code",
   "execution_count": 18,
   "id": "e26faa94",
   "metadata": {},
   "outputs": [
    {
     "data": {
      "text/plain": [
       "array([[1, 2, 3, 4],\n",
       "       [5, 6, 7, 8]])"
      ]
     },
     "execution_count": 18,
     "metadata": {},
     "output_type": "execute_result"
    }
   ],
   "source": [
    "arr2"
   ]
  },
  {
   "cell_type": "code",
   "execution_count": 19,
   "id": "032c4802",
   "metadata": {},
   "outputs": [],
   "source": [
    "# Como data2 era uma lista de listas, o array NumPy arr2 tem duas dimensões, com o formato inferido a partir dos \n",
    "# dados"
   ]
  },
  {
   "cell_type": "code",
   "execution_count": 20,
   "id": "334d3ac5",
   "metadata": {},
   "outputs": [],
   "source": [
    "# Para confirmar inspecionamos os atributos ndim e shape"
   ]
  },
  {
   "cell_type": "code",
   "execution_count": 21,
   "id": "3c2f778a",
   "metadata": {},
   "outputs": [
    {
     "data": {
      "text/plain": [
       "2"
      ]
     },
     "execution_count": 21,
     "metadata": {},
     "output_type": "execute_result"
    }
   ],
   "source": [
    "arr2.ndim"
   ]
  },
  {
   "cell_type": "code",
   "execution_count": 22,
   "id": "f35c3b40",
   "metadata": {},
   "outputs": [
    {
     "data": {
      "text/plain": [
       "(2, 4)"
      ]
     },
     "execution_count": 22,
     "metadata": {},
     "output_type": "execute_result"
    }
   ],
   "source": [
    "arr2.shape"
   ]
  },
  {
   "cell_type": "code",
   "execution_count": 23,
   "id": "0aa1e71e",
   "metadata": {},
   "outputs": [],
   "source": [
    "# np.array tentará inferir um bom tipo de dado para o array que ele criar"
   ]
  },
  {
   "cell_type": "code",
   "execution_count": 24,
   "id": "5e4fec36",
   "metadata": {},
   "outputs": [
    {
     "data": {
      "text/plain": [
       "dtype('float64')"
      ]
     },
     "execution_count": 24,
     "metadata": {},
     "output_type": "execute_result"
    }
   ],
   "source": [
    "arr1.dtype"
   ]
  },
  {
   "cell_type": "code",
   "execution_count": 25,
   "id": "e6469809",
   "metadata": {},
   "outputs": [
    {
     "data": {
      "text/plain": [
       "dtype('int64')"
      ]
     },
     "execution_count": 25,
     "metadata": {},
     "output_type": "execute_result"
    }
   ],
   "source": [
    "arr2.dtype"
   ]
  },
  {
   "cell_type": "code",
   "execution_count": 26,
   "id": "23100882",
   "metadata": {},
   "outputs": [],
   "source": [
    "# Criar novos arrays 0s ou de 1s"
   ]
  },
  {
   "cell_type": "code",
   "execution_count": 27,
   "id": "00a90ee7",
   "metadata": {},
   "outputs": [
    {
     "data": {
      "text/plain": [
       "array([0., 0., 0., 0., 0., 0., 0., 0., 0., 0.])"
      ]
     },
     "execution_count": 27,
     "metadata": {},
     "output_type": "execute_result"
    }
   ],
   "source": [
    "np.zeros(10)"
   ]
  },
  {
   "cell_type": "code",
   "execution_count": 28,
   "id": "10394a8d",
   "metadata": {},
   "outputs": [
    {
     "data": {
      "text/plain": [
       "array([[0., 0., 0., 0., 0., 0.],\n",
       "       [0., 0., 0., 0., 0., 0.],\n",
       "       [0., 0., 0., 0., 0., 0.]])"
      ]
     },
     "execution_count": 28,
     "metadata": {},
     "output_type": "execute_result"
    }
   ],
   "source": [
    "np.zeros((3,6))"
   ]
  },
  {
   "cell_type": "code",
   "execution_count": 29,
   "id": "b915fd6a",
   "metadata": {},
   "outputs": [],
   "source": [
    "# Criar arrays empty => sem inicializar os valores"
   ]
  },
  {
   "cell_type": "code",
   "execution_count": 30,
   "id": "950865a6",
   "metadata": {},
   "outputs": [
    {
     "data": {
      "text/plain": [
       "array([[[2.62250045e-320, 0.00000000e+000],\n",
       "        [1.01855798e-312, 9.54898106e-313],\n",
       "        [1.03977794e-312, 1.01855798e-312]],\n",
       "\n",
       "       [[1.23075756e-312, 1.10343781e-312],\n",
       "        [1.01855798e-312, 9.76118064e-313],\n",
       "        [1.14587773e-312, 1.90979621e-312]]])"
      ]
     },
     "execution_count": 30,
     "metadata": {},
     "output_type": "execute_result"
    }
   ],
   "source": [
    "np.empty((2, 3, 2))"
   ]
  },
  {
   "cell_type": "code",
   "execution_count": 31,
   "id": "1e6eeb39",
   "metadata": {},
   "outputs": [],
   "source": [
    "# arange => É uma versão da função embutida range do Python com valor de array:"
   ]
  },
  {
   "cell_type": "code",
   "execution_count": 32,
   "id": "ffe799b6",
   "metadata": {},
   "outputs": [
    {
     "data": {
      "text/plain": [
       "array([ 0,  1,  2,  3,  4,  5,  6,  7,  8,  9, 10, 11, 12, 13, 14])"
      ]
     },
     "execution_count": 32,
     "metadata": {},
     "output_type": "execute_result"
    }
   ],
   "source": [
    "np.arange(15)"
   ]
  },
  {
   "cell_type": "markdown",
   "id": "d54ed5d0",
   "metadata": {},
   "source": [
    "## Tipos de dados para ndarray\n",
    "\n",
    "O tipo de dado ou dtype é um objeto especial contendo as informações (ou metadados, isto é dados sobre dados) que\n",
    "o ndarray precisa para interpretar uma porção de memória como um tipo de dado particular:"
   ]
  },
  {
   "cell_type": "code",
   "execution_count": 33,
   "id": "f5ca9870",
   "metadata": {},
   "outputs": [
    {
     "data": {
      "text/plain": [
       "array([1., 2., 3.])"
      ]
     },
     "execution_count": 33,
     "metadata": {},
     "output_type": "execute_result"
    }
   ],
   "source": [
    "arr1 = np.array([1, 2, 3], dtype=np.float64)\n",
    "arr1"
   ]
  },
  {
   "cell_type": "code",
   "execution_count": 34,
   "id": "9995d1a7",
   "metadata": {},
   "outputs": [
    {
     "data": {
      "text/plain": [
       "array([1, 2, 3], dtype=int32)"
      ]
     },
     "execution_count": 34,
     "metadata": {},
     "output_type": "execute_result"
    }
   ],
   "source": [
    "arr2 = np.array([1, 2, 3], dtype=np.int32)\n",
    "arr2"
   ]
  },
  {
   "cell_type": "code",
   "execution_count": 35,
   "id": "0f375d35",
   "metadata": {},
   "outputs": [
    {
     "data": {
      "text/plain": [
       "dtype('float64')"
      ]
     },
     "execution_count": 35,
     "metadata": {},
     "output_type": "execute_result"
    }
   ],
   "source": [
    "arr1.dtype"
   ]
  },
  {
   "cell_type": "code",
   "execution_count": 36,
   "id": "d19aa02c",
   "metadata": {},
   "outputs": [
    {
     "data": {
      "text/plain": [
       "dtype('int32')"
      ]
     },
     "execution_count": 36,
     "metadata": {},
     "output_type": "execute_result"
    }
   ],
   "source": [
    "arr2.dtype"
   ]
  },
  {
   "cell_type": "code",
   "execution_count": 37,
   "id": "a6536d7a",
   "metadata": {},
   "outputs": [],
   "source": [
    "# Pode converter explicitamente ou fazer cast de um array de um dtype para outro usando o método astype de ndarray\n",
    "arr = np.array([1, 2, 3, 4, 5])"
   ]
  },
  {
   "cell_type": "code",
   "execution_count": 38,
   "id": "63483de4",
   "metadata": {},
   "outputs": [
    {
     "data": {
      "text/plain": [
       "dtype('int64')"
      ]
     },
     "execution_count": 38,
     "metadata": {},
     "output_type": "execute_result"
    }
   ],
   "source": [
    "arr.dtype"
   ]
  },
  {
   "cell_type": "code",
   "execution_count": 39,
   "id": "82003a6c",
   "metadata": {},
   "outputs": [],
   "source": [
    "float_arr = arr.astype(np.float64)"
   ]
  },
  {
   "cell_type": "code",
   "execution_count": 40,
   "id": "85f0bd48",
   "metadata": {},
   "outputs": [
    {
     "data": {
      "text/plain": [
       "dtype('float64')"
      ]
     },
     "execution_count": 40,
     "metadata": {},
     "output_type": "execute_result"
    }
   ],
   "source": [
    "float_arr.dtype"
   ]
  },
  {
   "cell_type": "code",
   "execution_count": 41,
   "id": "c0cad15a",
   "metadata": {},
   "outputs": [],
   "source": [
    "# Nesse outro exemplo, os inteiros receberam cast para ponto flutuante, a parte decimal é truncada"
   ]
  },
  {
   "cell_type": "code",
   "execution_count": 42,
   "id": "3c4171bc",
   "metadata": {},
   "outputs": [
    {
     "data": {
      "text/plain": [
       "array([ 3.7, -1.2, -2.6,  0.5, 12.9, 10.1])"
      ]
     },
     "execution_count": 42,
     "metadata": {},
     "output_type": "execute_result"
    }
   ],
   "source": [
    "arr = np.array([3.7, -1.2, -2.6, 0.5, 12.9, 10.1])\n",
    "arr"
   ]
  },
  {
   "cell_type": "code",
   "execution_count": 43,
   "id": "9cfbef0f",
   "metadata": {},
   "outputs": [
    {
     "data": {
      "text/plain": [
       "array([ 3, -1, -2,  0, 12, 10], dtype=int32)"
      ]
     },
     "execution_count": 43,
     "metadata": {},
     "output_type": "execute_result"
    }
   ],
   "source": [
    "num_int = arr.astype(np.int32)\n",
    "num_int.dtype\n",
    "num_int"
   ]
  },
  {
   "cell_type": "code",
   "execution_count": 44,
   "id": "ccae8ba1",
   "metadata": {},
   "outputs": [
    {
     "data": {
      "text/plain": [
       "array(['1.25', '-9.6', '42'], dtype='<U4')"
      ]
     },
     "execution_count": 44,
     "metadata": {},
     "output_type": "execute_result"
    }
   ],
   "source": [
    "# Se tiver um array de strings que representam números, poderá usar astype para converte-lo em um formato numérico\n",
    "texto = np.array(['1.25', '-9.6', '42'])\n",
    "texto.dtype\n",
    "texto"
   ]
  },
  {
   "cell_type": "code",
   "execution_count": 45,
   "id": "7905a5d0",
   "metadata": {},
   "outputs": [
    {
     "data": {
      "text/plain": [
       "array([ 1.25, -9.6 , 42.  ])"
      ]
     },
     "execution_count": 45,
     "metadata": {},
     "output_type": "execute_result"
    }
   ],
   "source": [
    "numero= texto.astype(float)\n",
    "numero.dtype\n",
    "numero"
   ]
  },
  {
   "cell_type": "markdown",
   "id": "3aecbc50",
   "metadata": {},
   "source": [
    "## Aritmética com arrays NumPy\n",
    "\n",
    "Os arrays são importantes porque permitem expressar operações em lote nos dados, sem escrever qualquer laço for. \n",
    "Os usuários do NumPy chamam isso de Vetorização. Qualquer operação aritmética entre arrays de mesmo tamanho faz a \n",
    "operação ser aplicada em todos os elementos."
   ]
  },
  {
   "cell_type": "code",
   "execution_count": 46,
   "id": "812822fa",
   "metadata": {},
   "outputs": [
    {
     "data": {
      "text/plain": [
       "array([[1., 2., 3.],\n",
       "       [4., 5., 6.]])"
      ]
     },
     "execution_count": 46,
     "metadata": {},
     "output_type": "execute_result"
    }
   ],
   "source": [
    "arr = np.array([[1.,2.,3.],[4.,5.,6.]])\n",
    "arr"
   ]
  },
  {
   "cell_type": "code",
   "execution_count": 47,
   "id": "bc35edc6",
   "metadata": {},
   "outputs": [
    {
     "data": {
      "text/plain": [
       "array([[ 1.,  4.,  9.],\n",
       "       [16., 25., 36.]])"
      ]
     },
     "execution_count": 47,
     "metadata": {},
     "output_type": "execute_result"
    }
   ],
   "source": [
    "arr * arr"
   ]
  },
  {
   "cell_type": "code",
   "execution_count": 48,
   "id": "dac8875f",
   "metadata": {},
   "outputs": [
    {
     "data": {
      "text/plain": [
       "array([[0., 0., 0.],\n",
       "       [0., 0., 0.]])"
      ]
     },
     "execution_count": 48,
     "metadata": {},
     "output_type": "execute_result"
    }
   ],
   "source": [
    "arr - arr"
   ]
  },
  {
   "cell_type": "code",
   "execution_count": 49,
   "id": "314854cc",
   "metadata": {},
   "outputs": [
    {
     "data": {
      "text/plain": [
       "array([[1.        , 0.5       , 0.33333333],\n",
       "       [0.25      , 0.2       , 0.16666667]])"
      ]
     },
     "execution_count": 49,
     "metadata": {},
     "output_type": "execute_result"
    }
   ],
   "source": [
    "# As operações aritméticas com escalares fazem o argumento escalar ser propagado a cada elemento do array:\n",
    "1 / arr"
   ]
  },
  {
   "cell_type": "code",
   "execution_count": 50,
   "id": "0b8378bb",
   "metadata": {},
   "outputs": [
    {
     "data": {
      "text/plain": [
       "array([[1.000e+00, 3.200e+01, 2.430e+02],\n",
       "       [1.024e+03, 3.125e+03, 7.776e+03]])"
      ]
     },
     "execution_count": 50,
     "metadata": {},
     "output_type": "execute_result"
    }
   ],
   "source": [
    "arr ** 5"
   ]
  },
  {
   "cell_type": "code",
   "execution_count": 51,
   "id": "aac2349e",
   "metadata": {},
   "outputs": [],
   "source": [
    "# As comparações entre arrays de mesmo tamanho resultam em arrays booleanos"
   ]
  },
  {
   "cell_type": "code",
   "execution_count": 52,
   "id": "a4665e67",
   "metadata": {},
   "outputs": [
    {
     "data": {
      "text/plain": [
       "array([[ 0.,  4.,  1.],\n",
       "       [ 7.,  2., 12.]])"
      ]
     },
     "execution_count": 52,
     "metadata": {},
     "output_type": "execute_result"
    }
   ],
   "source": [
    "arr2 = np.array([[0.,4.,1.],[7.,2.,12.]])\n",
    "arr2"
   ]
  },
  {
   "cell_type": "code",
   "execution_count": 53,
   "id": "15417c4d",
   "metadata": {},
   "outputs": [
    {
     "data": {
      "text/plain": [
       "array([[False,  True, False],\n",
       "       [ True, False,  True]])"
      ]
     },
     "execution_count": 53,
     "metadata": {},
     "output_type": "execute_result"
    }
   ],
   "source": [
    "arr2 > arr"
   ]
  },
  {
   "cell_type": "code",
   "execution_count": 54,
   "id": "36e103cd",
   "metadata": {},
   "outputs": [
    {
     "data": {
      "text/plain": [
       "array([[1., 2., 3.],\n",
       "       [4., 5., 6.]])"
      ]
     },
     "execution_count": 54,
     "metadata": {},
     "output_type": "execute_result"
    }
   ],
   "source": [
    "arr"
   ]
  },
  {
   "cell_type": "markdown",
   "id": "cf664c59",
   "metadata": {},
   "source": [
    "## Indexação básica e fatiamento\n",
    "\n",
    "A indexação de arrays NumPy, é um assunto rico, pois há muitos modos com os quais você pode querer selecionar um \n",
    "subconjunto de seus dados ou elementos individuais. Arrays unidimensionais são simples; superficialmente, eles se \n",
    "comportam de modo semelhante às listas de Python:"
   ]
  },
  {
   "cell_type": "code",
   "execution_count": 55,
   "id": "0bda91c0",
   "metadata": {},
   "outputs": [
    {
     "data": {
      "text/plain": [
       "array([0, 1, 2, 3, 4, 5, 6, 7, 8, 9])"
      ]
     },
     "execution_count": 55,
     "metadata": {},
     "output_type": "execute_result"
    }
   ],
   "source": [
    "arr = np.arange(10)\n",
    "arr"
   ]
  },
  {
   "cell_type": "code",
   "execution_count": 56,
   "id": "7ca76ea4",
   "metadata": {},
   "outputs": [
    {
     "data": {
      "text/plain": [
       "5"
      ]
     },
     "execution_count": 56,
     "metadata": {},
     "output_type": "execute_result"
    }
   ],
   "source": [
    "arr[5]"
   ]
  },
  {
   "cell_type": "code",
   "execution_count": 57,
   "id": "20d1e8e8",
   "metadata": {},
   "outputs": [
    {
     "data": {
      "text/plain": [
       "array([5, 6, 7])"
      ]
     },
     "execution_count": 57,
     "metadata": {},
     "output_type": "execute_result"
    }
   ],
   "source": [
    "arr[5:8]"
   ]
  },
  {
   "cell_type": "code",
   "execution_count": 58,
   "id": "23439d6a",
   "metadata": {},
   "outputs": [
    {
     "data": {
      "text/plain": [
       "array([ 0,  1,  2,  3,  4, 12, 12, 12,  8,  9])"
      ]
     },
     "execution_count": 58,
     "metadata": {},
     "output_type": "execute_result"
    }
   ],
   "source": [
    "arr[5:8] = 12\n",
    "arr"
   ]
  },
  {
   "cell_type": "code",
   "execution_count": 59,
   "id": "1d206806",
   "metadata": {},
   "outputs": [
    {
     "data": {
      "text/plain": [
       "array([12, 12, 12])"
      ]
     },
     "execution_count": 59,
     "metadata": {},
     "output_type": "execute_result"
    }
   ],
   "source": [
    "# Fatias de arrays são visualzações do array original. Significa que os dados não são copiados, e qq modificação\n",
    "# na visualização se refletirá no array original.\n",
    "\n",
    "arr_slice = arr[5:8]\n",
    "arr_slice"
   ]
  },
  {
   "cell_type": "code",
   "execution_count": 60,
   "id": "b6978b07",
   "metadata": {},
   "outputs": [
    {
     "name": "stdout",
     "output_type": "stream",
     "text": [
      "Array copiado:  [   12 12345    12]\n",
      "Array original:  [    0     1     2     3     4    12 12345    12     8     9]\n"
     ]
    }
   ],
   "source": [
    "# Agora, quando altero valores em arr_slice, as mudanças se refletem no array original\n",
    "\n",
    "arr_slice[1] = 12345\n",
    "print('Array copiado: ', arr_slice)\n",
    "print('Array original: ', arr)"
   ]
  },
  {
   "cell_type": "code",
   "execution_count": 61,
   "id": "4cef94e4",
   "metadata": {},
   "outputs": [
    {
     "name": "stdout",
     "output_type": "stream",
     "text": [
      "Array copiado:  [64 64 64]\n",
      "Array original:  [ 0  1  2  3  4 64 64 64  8  9]\n"
     ]
    }
   ],
   "source": [
    "# A fatia \"nua\" [:] fará uma atribuição a todos os valores em um array\n",
    "\n",
    "arr_slice[:] = 64\n",
    "print('Array copiado: ', arr_slice)\n",
    "print('Array original: ', arr)"
   ]
  },
  {
   "cell_type": "code",
   "execution_count": 62,
   "id": "82689791",
   "metadata": {},
   "outputs": [
    {
     "name": "stdout",
     "output_type": "stream",
     "text": [
      "Array copiado:  [100 100 100]\n",
      "Array original:  [ 0  1  2  3  4 64 64 64  8  9]\n"
     ]
    }
   ],
   "source": [
    "# Cópia de arrays \n",
    "\n",
    "arr_cp = arr[5:8].copy()\n",
    "arr_cp\n",
    "\n",
    "arr_cp[:] = 100, 100, 100\n",
    "print('Array copiado: ', arr_cp)\n",
    "print('Array original: ', arr)"
   ]
  },
  {
   "cell_type": "code",
   "execution_count": 63,
   "id": "ddaac48d",
   "metadata": {},
   "outputs": [
    {
     "data": {
      "text/plain": [
       "array([7, 8, 9])"
      ]
     },
     "execution_count": 63,
     "metadata": {},
     "output_type": "execute_result"
    }
   ],
   "source": [
    "# Com arrays de dimensões maiores, tem muito mais opções. Um array bidimensional, os elementos em cada índice não\n",
    "# são mais escalares, mas são arrays unidimensionais:\n",
    "\n",
    "arr2d = np.array([[1, 2, 3], [4, 5, 6], [7, 8, 9]])\n",
    "arr2d[2]"
   ]
  },
  {
   "cell_type": "code",
   "execution_count": 64,
   "id": "1bfae61d",
   "metadata": {},
   "outputs": [
    {
     "data": {
      "text/plain": [
       "3"
      ]
     },
     "execution_count": 64,
     "metadata": {},
     "output_type": "execute_result"
    }
   ],
   "source": [
    "# Podemos passar uma lista de índices separados por vírgula para selecionar elementos individuais\n",
    "arr2d[0][2]"
   ]
  },
  {
   "cell_type": "code",
   "execution_count": 65,
   "id": "a8a28481",
   "metadata": {},
   "outputs": [
    {
     "data": {
      "text/plain": [
       "3"
      ]
     },
     "execution_count": 65,
     "metadata": {},
     "output_type": "execute_result"
    }
   ],
   "source": [
    "arr2d[0,2]"
   ]
  },
  {
   "cell_type": "markdown",
   "id": "9d54b788",
   "metadata": {},
   "source": [
    "##### Em arrays multidimensionais, se omitir os índices finais, o objeto devolvido será um ndarray de dimensões menores\n",
    "#### constituído de todos os dados nas dimensões mais altas\n",
    "#### Assim, no array arr3d 2 X 2 x 3: "
   ]
  },
  {
   "cell_type": "code",
   "execution_count": 66,
   "id": "4ca94a15",
   "metadata": {},
   "outputs": [
    {
     "data": {
      "text/plain": [
       "array([[[ 1,  2,  3],\n",
       "        [ 4,  5,  6]],\n",
       "\n",
       "       [[ 7,  8,  9],\n",
       "        [10, 11, 12]]])"
      ]
     },
     "execution_count": 66,
     "metadata": {},
     "output_type": "execute_result"
    }
   ],
   "source": [
    "arr3d = np.array([[[1,2,3],[4,5,6]],[[7,8,9],[10,11,12]]])\n",
    "arr3d"
   ]
  },
  {
   "cell_type": "code",
   "execution_count": 67,
   "id": "a0413ff1",
   "metadata": {},
   "outputs": [
    {
     "data": {
      "text/plain": [
       "array([[1, 2, 3],\n",
       "       [4, 5, 6]])"
      ]
     },
     "execution_count": 67,
     "metadata": {},
     "output_type": "execute_result"
    }
   ],
   "source": [
    "# arr3d[0] é um array 2 x 3\n",
    "arr3d[0]"
   ]
  },
  {
   "cell_type": "code",
   "execution_count": 68,
   "id": "38203f6e",
   "metadata": {},
   "outputs": [
    {
     "data": {
      "text/plain": [
       "array([[1, 2, 3],\n",
       "       [4, 5, 6]])"
      ]
     },
     "execution_count": 68,
     "metadata": {},
     "output_type": "execute_result"
    }
   ],
   "source": [
    "# Tanto valores escalares quanto arrays podem ser atribuídos no arr3d[0]:\n",
    "old_values = arr3d[0].copy()\n",
    "old_values"
   ]
  },
  {
   "cell_type": "code",
   "execution_count": 69,
   "id": "38b1fd72",
   "metadata": {},
   "outputs": [
    {
     "data": {
      "text/plain": [
       "array([[[42, 42, 42],\n",
       "        [42, 42, 42]],\n",
       "\n",
       "       [[ 7,  8,  9],\n",
       "        [10, 11, 12]]])"
      ]
     },
     "execution_count": 69,
     "metadata": {},
     "output_type": "execute_result"
    }
   ],
   "source": [
    "arr3d[0] = 42\n",
    "arr3d"
   ]
  },
  {
   "cell_type": "code",
   "execution_count": 70,
   "id": "ed7c3237",
   "metadata": {},
   "outputs": [
    {
     "data": {
      "text/plain": [
       "array([[[ 1,  2,  3],\n",
       "        [ 4,  5,  6]],\n",
       "\n",
       "       [[ 7,  8,  9],\n",
       "        [10, 11, 12]]])"
      ]
     },
     "execution_count": 70,
     "metadata": {},
     "output_type": "execute_result"
    }
   ],
   "source": [
    "arr3d[0] = old_values\n",
    "arr3d"
   ]
  },
  {
   "cell_type": "code",
   "execution_count": 71,
   "id": "32da775f",
   "metadata": {},
   "outputs": [
    {
     "data": {
      "text/plain": [
       "array([7, 8, 9])"
      ]
     },
     "execution_count": 71,
     "metadata": {},
     "output_type": "execute_result"
    }
   ],
   "source": [
    "# De modo semelhante, arr3d[1,0] contém todos os valores cujos índices começam com (1,0), formando um array\n",
    "# unidimensional\n",
    "arr3d[1,0]"
   ]
  },
  {
   "cell_type": "code",
   "execution_count": 72,
   "id": "71df1ca0",
   "metadata": {},
   "outputs": [
    {
     "data": {
      "text/plain": [
       "array([[ 7,  8,  9],\n",
       "       [10, 11, 12]])"
      ]
     },
     "execution_count": 72,
     "metadata": {},
     "output_type": "execute_result"
    }
   ],
   "source": [
    "# Essa expressão, é equivalente a uma indexação em dois passos:\n",
    "x = arr3d[1]\n",
    "x"
   ]
  },
  {
   "cell_type": "code",
   "execution_count": 73,
   "id": "19a0cee4",
   "metadata": {},
   "outputs": [
    {
     "data": {
      "text/plain": [
       "array([7, 8, 9])"
      ]
     },
     "execution_count": 73,
     "metadata": {},
     "output_type": "execute_result"
    }
   ],
   "source": [
    "x[0]"
   ]
  },
  {
   "cell_type": "code",
   "execution_count": 74,
   "id": "d099bcec",
   "metadata": {},
   "outputs": [],
   "source": [
    "# Indexação com fatias"
   ]
  },
  {
   "cell_type": "code",
   "execution_count": 75,
   "id": "7e6a33ad",
   "metadata": {},
   "outputs": [
    {
     "data": {
      "text/plain": [
       "array([ 0,  1,  2,  3,  4, 64, 64, 64,  8,  9])"
      ]
     },
     "execution_count": 75,
     "metadata": {},
     "output_type": "execute_result"
    }
   ],
   "source": [
    "arr"
   ]
  },
  {
   "cell_type": "code",
   "execution_count": 76,
   "id": "16f1ca36",
   "metadata": {},
   "outputs": [
    {
     "data": {
      "text/plain": [
       "array([ 1,  2,  3,  4, 64])"
      ]
     },
     "execution_count": 76,
     "metadata": {},
     "output_type": "execute_result"
    }
   ],
   "source": [
    "arr[1:6]"
   ]
  },
  {
   "cell_type": "code",
   "execution_count": 77,
   "id": "d3d62755",
   "metadata": {},
   "outputs": [],
   "source": [
    "# Considere o array bidimensional arr2d, fatiar é um pouco diferente:"
   ]
  },
  {
   "cell_type": "code",
   "execution_count": 78,
   "id": "31a305be",
   "metadata": {},
   "outputs": [
    {
     "data": {
      "text/plain": [
       "array([[1, 2, 3],\n",
       "       [4, 5, 6],\n",
       "       [7, 8, 9]])"
      ]
     },
     "execution_count": 78,
     "metadata": {},
     "output_type": "execute_result"
    }
   ],
   "source": [
    "arr2d"
   ]
  },
  {
   "cell_type": "code",
   "execution_count": 79,
   "id": "d7b6910b",
   "metadata": {},
   "outputs": [
    {
     "data": {
      "text/plain": [
       "array([[1, 2, 3],\n",
       "       [4, 5, 6]])"
      ]
     },
     "execution_count": 79,
     "metadata": {},
     "output_type": "execute_result"
    }
   ],
   "source": [
    "arr2d[:2]"
   ]
  },
  {
   "cell_type": "code",
   "execution_count": 80,
   "id": "ebdac010",
   "metadata": {},
   "outputs": [
    {
     "data": {
      "text/plain": [
       "array([[2, 3],\n",
       "       [5, 6]])"
      ]
     },
     "execution_count": 80,
     "metadata": {},
     "output_type": "execute_result"
    }
   ],
   "source": [
    "# Podemos passar várias fatias, do mesmo modo como podemos passar vários índices:\n",
    "arr2d[:2, 1:]"
   ]
  },
  {
   "cell_type": "markdown",
   "id": "ca7e3513",
   "metadata": {},
   "source": [
    "## Ao fatiar dessa maneira\n",
    "\n",
    "sempre vamos obter visualizações do array com o mesmo número de dimensões. Ao combinar índices inteiros com fatias, teremos fatias de dimensões "
   ]
  },
  {
   "cell_type": "code",
   "execution_count": 81,
   "id": "590d02c4",
   "metadata": {},
   "outputs": [
    {
     "data": {
      "text/plain": [
       "array([4, 5])"
      ]
     },
     "execution_count": 81,
     "metadata": {},
     "output_type": "execute_result"
    }
   ],
   "source": [
    "# Posso selecionar a segunda linha, mas somente as duas primeiras colunas, assim:\n",
    "arr2d[1,:2]"
   ]
  },
  {
   "cell_type": "code",
   "execution_count": 82,
   "id": "9ec36a0b",
   "metadata": {},
   "outputs": [
    {
     "data": {
      "text/plain": [
       "array([3, 6])"
      ]
     },
     "execution_count": 82,
     "metadata": {},
     "output_type": "execute_result"
    }
   ],
   "source": [
    "# De modo semelhante, podemos selecionar a terceira coluna, mas somente as duas primeiras linhas:\n",
    "arr2d[:2, 2]"
   ]
  },
  {
   "cell_type": "code",
   "execution_count": 83,
   "id": "14d8bf48",
   "metadata": {},
   "outputs": [
    {
     "data": {
      "text/plain": [
       "array([[1],\n",
       "       [4],\n",
       "       [7]])"
      ]
     },
     "execution_count": 83,
     "metadata": {},
     "output_type": "execute_result"
    }
   ],
   "source": [
    "# Os dois pontos sozinhos significam que todo o eixo deve ser considerado.\n",
    "# Portanto podemos fatiar os eixos de dimensões mais altas\n",
    "arr2d[:,:1]"
   ]
  },
  {
   "cell_type": "code",
   "execution_count": 84,
   "id": "4b26819b",
   "metadata": {},
   "outputs": [
    {
     "data": {
      "text/plain": [
       "array([[1, 0, 0],\n",
       "       [4, 0, 0],\n",
       "       [7, 8, 9]])"
      ]
     },
     "execution_count": 84,
     "metadata": {},
     "output_type": "execute_result"
    }
   ],
   "source": [
    "# É claro que fazer uma atribuição a uma expressão de fatia faz a atribuição para toda a seleção:\n",
    "arr2d[:2, 1:] = 0\n",
    "arr2d"
   ]
  },
  {
   "cell_type": "markdown",
   "id": "29ff3250",
   "metadata": {},
   "source": [
    "## Indexação booleana\n",
    "\n",
    "Vamos considerar um exemplo em que temos alguns dados em um array e um array de nomes com duplicatas"
   ]
  },
  {
   "cell_type": "code",
   "execution_count": 85,
   "id": "a431689e",
   "metadata": {},
   "outputs": [],
   "source": [
    "names = np.array(['Bob', 'Joe', 'Will', 'Bob', 'Will', 'Joe', 'Joe'])"
   ]
  },
  {
   "cell_type": "code",
   "execution_count": 86,
   "id": "fdc28a15",
   "metadata": {},
   "outputs": [],
   "source": [
    "data = np.random.randn(7, 4)"
   ]
  },
  {
   "cell_type": "code",
   "execution_count": 87,
   "id": "dfabccc1",
   "metadata": {},
   "outputs": [
    {
     "data": {
      "text/plain": [
       "array(['Bob', 'Joe', 'Will', 'Bob', 'Will', 'Joe', 'Joe'], dtype='<U4')"
      ]
     },
     "execution_count": 87,
     "metadata": {},
     "output_type": "execute_result"
    }
   ],
   "source": [
    "names"
   ]
  },
  {
   "cell_type": "code",
   "execution_count": 88,
   "id": "74165e6c",
   "metadata": {},
   "outputs": [
    {
     "data": {
      "text/plain": [
       "array([[ 1.42728217, -0.21598545, -1.24715527,  1.36940196],\n",
       "       [ 0.15377922, -1.14234095,  0.61809959,  0.33959152],\n",
       "       [ 0.60144896, -0.363071  , -0.45672519, -1.3408532 ],\n",
       "       [-1.37560705,  1.17885301, -1.98248325, -0.22179348],\n",
       "       [ 0.23345406, -0.9242437 , -1.45024305,  0.13074806],\n",
       "       [ 0.52535169, -0.59071681,  0.13889307,  0.2937637 ],\n",
       "       [ 0.02102464, -0.17057154,  1.05858023,  0.47630286]])"
      ]
     },
     "execution_count": 88,
     "metadata": {},
     "output_type": "execute_result"
    }
   ],
   "source": [
    "data"
   ]
  },
  {
   "cell_type": "code",
   "execution_count": 89,
   "id": "a04fac6b",
   "metadata": {},
   "outputs": [
    {
     "data": {
      "text/plain": [
       "array([ True, False, False,  True, False, False, False])"
      ]
     },
     "execution_count": 89,
     "metadata": {},
     "output_type": "execute_result"
    }
   ],
   "source": [
    "# Suponha que cada nome corresponda a uma linha do array data e que queremos selecionar todas as linhas com o nome\n",
    "# correspondente ''Bob'. Assim como nas operações aritméticas, as comparações (como ==) com arrays também são \n",
    "# vetorizadas.Assim, compararar names com a string 'Bob' produzirá um array booleano.\n",
    "names == 'Bob'"
   ]
  },
  {
   "cell_type": "code",
   "execution_count": 90,
   "id": "4a7fdffa",
   "metadata": {},
   "outputs": [],
   "source": [
    "# Esse array booleano pode ser passado quando o array é indexado"
   ]
  },
  {
   "cell_type": "code",
   "execution_count": 91,
   "id": "49ecb23d",
   "metadata": {},
   "outputs": [
    {
     "data": {
      "text/plain": [
       "array([[ 1.42728217, -0.21598545, -1.24715527,  1.36940196],\n",
       "       [-1.37560705,  1.17885301, -1.98248325, -0.22179348]])"
      ]
     },
     "execution_count": 91,
     "metadata": {},
     "output_type": "execute_result"
    }
   ],
   "source": [
    "data[names == 'Bob']"
   ]
  },
  {
   "cell_type": "code",
   "execution_count": 92,
   "id": "85477edb",
   "metadata": {},
   "outputs": [
    {
     "data": {
      "text/plain": [
       "array([[-1.24715527,  1.36940196],\n",
       "       [-1.98248325, -0.22179348]])"
      ]
     },
     "execution_count": 92,
     "metadata": {},
     "output_type": "execute_result"
    }
   ],
   "source": [
    "# Nesses exemplo, faço a seleção a partir das linhas em que names == 'Bob' e indexo as colunas também\n",
    "data[names == 'Bob', 2:]"
   ]
  },
  {
   "cell_type": "code",
   "execution_count": 93,
   "id": "db716790",
   "metadata": {},
   "outputs": [
    {
     "data": {
      "text/plain": [
       "array([ 1.36940196, -0.22179348])"
      ]
     },
     "execution_count": 93,
     "metadata": {},
     "output_type": "execute_result"
    }
   ],
   "source": [
    "data[names == 'Bob', 3]"
   ]
  },
  {
   "cell_type": "code",
   "execution_count": 94,
   "id": "98e9eeae",
   "metadata": {},
   "outputs": [
    {
     "data": {
      "text/plain": [
       "array([False,  True,  True, False,  True,  True,  True])"
      ]
     },
     "execution_count": 94,
     "metadata": {},
     "output_type": "execute_result"
    }
   ],
   "source": [
    "# Para selecionar tudo exceto 'Bob', podemos usar != ou negar a condição usando ~\n",
    "names != 'Bob'"
   ]
  },
  {
   "cell_type": "code",
   "execution_count": 95,
   "id": "16115df8",
   "metadata": {},
   "outputs": [
    {
     "data": {
      "text/plain": [
       "array([[ 0.15377922, -1.14234095,  0.61809959,  0.33959152],\n",
       "       [ 0.60144896, -0.363071  , -0.45672519, -1.3408532 ],\n",
       "       [ 0.23345406, -0.9242437 , -1.45024305,  0.13074806],\n",
       "       [ 0.52535169, -0.59071681,  0.13889307,  0.2937637 ],\n",
       "       [ 0.02102464, -0.17057154,  1.05858023,  0.47630286]])"
      ]
     },
     "execution_count": 95,
     "metadata": {},
     "output_type": "execute_result"
    }
   ],
   "source": [
    "data[~(names == 'Bob')]"
   ]
  },
  {
   "cell_type": "code",
   "execution_count": 96,
   "id": "7f287b56",
   "metadata": {},
   "outputs": [
    {
     "data": {
      "text/plain": [
       "array([[ 0.15377922, -1.14234095,  0.61809959,  0.33959152],\n",
       "       [ 0.60144896, -0.363071  , -0.45672519, -1.3408532 ],\n",
       "       [ 0.23345406, -0.9242437 , -1.45024305,  0.13074806],\n",
       "       [ 0.52535169, -0.59071681,  0.13889307,  0.2937637 ],\n",
       "       [ 0.02102464, -0.17057154,  1.05858023,  0.47630286]])"
      ]
     },
     "execution_count": 96,
     "metadata": {},
     "output_type": "execute_result"
    }
   ],
   "source": [
    "# Operador ~ pode ser útil se quisermos inverter uma condição genérica\n",
    "cond = names == 'Bob'\n",
    "\n",
    "data [~cond]"
   ]
  },
  {
   "cell_type": "code",
   "execution_count": 97,
   "id": "7fde63ae",
   "metadata": {},
   "outputs": [
    {
     "data": {
      "text/plain": [
       "array([ True, False,  True,  True,  True, False, False])"
      ]
     },
     "execution_count": 97,
     "metadata": {},
     "output_type": "execute_result"
    }
   ],
   "source": [
    "# Selecionando dois dos três nomes para combinar várias condições booleanas, utilize operadores aritméticos \n",
    "# booleanos como & (and) e | (or)\n",
    "mask = (names == 'Bob') | (names == 'Will')\n",
    "mask"
   ]
  },
  {
   "cell_type": "code",
   "execution_count": 98,
   "id": "f9cdab06",
   "metadata": {},
   "outputs": [
    {
     "data": {
      "text/plain": [
       "array([[ 1.42728217, -0.21598545, -1.24715527,  1.36940196],\n",
       "       [ 0.60144896, -0.363071  , -0.45672519, -1.3408532 ],\n",
       "       [-1.37560705,  1.17885301, -1.98248325, -0.22179348],\n",
       "       [ 0.23345406, -0.9242437 , -1.45024305,  0.13074806]])"
      ]
     },
     "execution_count": 98,
     "metadata": {},
     "output_type": "execute_result"
    }
   ],
   "source": [
    "data[mask]"
   ]
  },
  {
   "cell_type": "code",
   "execution_count": 99,
   "id": "e0a0645b",
   "metadata": {},
   "outputs": [
    {
     "data": {
      "text/plain": [
       "array([[1.42728217, 0.        , 0.        , 1.36940196],\n",
       "       [0.15377922, 0.        , 0.61809959, 0.33959152],\n",
       "       [0.60144896, 0.        , 0.        , 0.        ],\n",
       "       [0.        , 1.17885301, 0.        , 0.        ],\n",
       "       [0.23345406, 0.        , 0.        , 0.13074806],\n",
       "       [0.52535169, 0.        , 0.13889307, 0.2937637 ],\n",
       "       [0.02102464, 0.        , 1.05858023, 0.47630286]])"
      ]
     },
     "execution_count": 99,
     "metadata": {},
     "output_type": "execute_result"
    }
   ],
   "source": [
    "# Definir valores com arrays booleanos funciona de acordo com o senso comum. \n",
    "# Para definir todos os valores negativos em data com 0, basta fazer o seguinte\n",
    "data[data < 0] = 0\n",
    "data"
   ]
  },
  {
   "cell_type": "code",
   "execution_count": 100,
   "id": "a3f4138c",
   "metadata": {},
   "outputs": [
    {
     "data": {
      "text/plain": [
       "array([[7.        , 7.        , 7.        , 7.        ],\n",
       "       [0.15377922, 0.        , 0.61809959, 0.33959152],\n",
       "       [7.        , 7.        , 7.        , 7.        ],\n",
       "       [7.        , 7.        , 7.        , 7.        ],\n",
       "       [7.        , 7.        , 7.        , 7.        ],\n",
       "       [0.52535169, 0.        , 0.13889307, 0.2937637 ],\n",
       "       [0.02102464, 0.        , 1.05858023, 0.47630286]])"
      ]
     },
     "execution_count": 100,
     "metadata": {},
     "output_type": "execute_result"
    }
   ],
   "source": [
    "# Definir linhas e colunas inteiras usando um array booleano unidimensional também é fácil\n",
    "data[names != 'Joe'] = 7\n",
    "data"
   ]
  },
  {
   "cell_type": "markdown",
   "id": "27633f7a",
   "metadata": {},
   "source": [
    "## Indexação Sofisticada\n",
    "\n",
    "Indexação sofisticada (fancy indexing) é o termo adotado pelo NumPy para descrever a indexação usando arrays de\n",
    "inteiros."
   ]
  },
  {
   "cell_type": "code",
   "execution_count": 101,
   "id": "620adfb6",
   "metadata": {},
   "outputs": [
    {
     "data": {
      "text/plain": [
       "array([[0., 0., 0., 0.],\n",
       "       [1., 1., 1., 1.],\n",
       "       [2., 2., 2., 2.],\n",
       "       [3., 3., 3., 3.],\n",
       "       [4., 4., 4., 4.],\n",
       "       [5., 5., 5., 5.],\n",
       "       [6., 6., 6., 6.],\n",
       "       [7., 7., 7., 7.]])"
      ]
     },
     "execution_count": 101,
     "metadata": {},
     "output_type": "execute_result"
    }
   ],
   "source": [
    "# Suponha que tivéssemos um array 8 x 4:\n",
    "arr = np.empty((8, 4))\n",
    "\n",
    "for i in range(8):\n",
    "    arr[i] = i\n",
    "\n",
    "arr"
   ]
  },
  {
   "cell_type": "code",
   "execution_count": 102,
   "id": "36a08f8a",
   "metadata": {},
   "outputs": [
    {
     "data": {
      "text/plain": [
       "array([[4., 4., 4., 4.],\n",
       "       [3., 3., 3., 3.],\n",
       "       [0., 0., 0., 0.],\n",
       "       [6., 6., 6., 6.]])"
      ]
     },
     "execution_count": 102,
     "metadata": {},
     "output_type": "execute_result"
    }
   ],
   "source": [
    "# Para selecionar um subconjunto das linhas em uma ordem em particular, podemos simplesmente passar uma lista ou \n",
    "# ndarray de inteiros especificando a ordem desejada:\n",
    "arr[[4, 3, 0, 6]]"
   ]
  },
  {
   "cell_type": "code",
   "execution_count": 103,
   "id": "efe254a4",
   "metadata": {},
   "outputs": [
    {
     "data": {
      "text/plain": [
       "array([[5., 5., 5., 5.],\n",
       "       [3., 3., 3., 3.],\n",
       "       [1., 1., 1., 1.]])"
      ]
     },
     "execution_count": 103,
     "metadata": {},
     "output_type": "execute_result"
    }
   ],
   "source": [
    "# Usar índices negativos seleciona as linhas a partir do final\n",
    "arr[[-3, -5, -7]]"
   ]
  },
  {
   "cell_type": "code",
   "execution_count": 104,
   "id": "7a5589b8",
   "metadata": {},
   "outputs": [
    {
     "data": {
      "text/plain": [
       "array([[ 0,  1,  2,  3],\n",
       "       [ 4,  5,  6,  7],\n",
       "       [ 8,  9, 10, 11],\n",
       "       [12, 13, 14, 15],\n",
       "       [16, 17, 18, 19],\n",
       "       [20, 21, 22, 23],\n",
       "       [24, 25, 26, 27],\n",
       "       [28, 29, 30, 31]])"
      ]
     },
     "execution_count": 104,
     "metadata": {},
     "output_type": "execute_result"
    }
   ],
   "source": [
    "# Passar vários índices de array faz algo um pouco diferente; a instrução seleciona um array unidimensional\n",
    "# de elementos correspondentes a cada tupla de índices:\n",
    "arr = np.arange(32).reshape((8,4))\n",
    "arr"
   ]
  },
  {
   "cell_type": "code",
   "execution_count": 105,
   "id": "c08a2bd0",
   "metadata": {},
   "outputs": [
    {
     "data": {
      "text/plain": [
       "array([ 4, 23, 29, 10])"
      ]
     },
     "execution_count": 105,
     "metadata": {},
     "output_type": "execute_result"
    }
   ],
   "source": [
    "# Nesse caso, os elementos (1,0), (5,3), (7,1) e (2,2) foram selecionandos. Independentemente de quantas dimensões \n",
    "# o array tiver (no exemplo, apenas 2), o resultado da indexação sofisticada sempre será unidimensional.\n",
    "arr[[1, 5, 7, 2], [0, 3, 1, 2]]"
   ]
  },
  {
   "cell_type": "code",
   "execution_count": 106,
   "id": "df8b58be",
   "metadata": {},
   "outputs": [
    {
     "data": {
      "text/plain": [
       "array([[ 4,  7,  5,  6],\n",
       "       [20, 23, 21, 22],\n",
       "       [28, 31, 29, 30],\n",
       "       [ 8, 11,  9, 10]])"
      ]
     },
     "execution_count": 106,
     "metadata": {},
     "output_type": "execute_result"
    }
   ],
   "source": [
    "# O comportamento da indexação sofisticada nesse caso é um pouco diferente do que alguns usuários poderiam esperar\n",
    "# que é a região retangular formada pela seleção de um subconjunto das linhas e colunas da matriz:\n",
    "arr[[1, 5, 7, 2]][:, [0, 3, 1, 2]]"
   ]
  },
  {
   "cell_type": "markdown",
   "id": "b2330b88",
   "metadata": {},
   "source": [
    "## Transposição de arrays e troca de eixos\n",
    "\n",
    "A transposição é uma forma especial de reformatação que, de modo semelhante, devolve uma visualização dos dados \n",
    "subjacentes, sem copiar nada. Os arrays têm o método transpose, além do atributo especial T:"
   ]
  },
  {
   "cell_type": "code",
   "execution_count": 107,
   "id": "60b64464",
   "metadata": {},
   "outputs": [],
   "source": [
    "arr = np.arange(15).reshape((3,5))"
   ]
  },
  {
   "cell_type": "code",
   "execution_count": 108,
   "id": "5df6ce8f",
   "metadata": {},
   "outputs": [
    {
     "data": {
      "text/plain": [
       "array([[ 0,  1,  2,  3,  4],\n",
       "       [ 5,  6,  7,  8,  9],\n",
       "       [10, 11, 12, 13, 14]])"
      ]
     },
     "execution_count": 108,
     "metadata": {},
     "output_type": "execute_result"
    }
   ],
   "source": [
    "arr"
   ]
  },
  {
   "cell_type": "code",
   "execution_count": 109,
   "id": "f3786fd1",
   "metadata": {},
   "outputs": [
    {
     "data": {
      "text/plain": [
       "array([[ 0,  5, 10],\n",
       "       [ 1,  6, 11],\n",
       "       [ 2,  7, 12],\n",
       "       [ 3,  8, 13],\n",
       "       [ 4,  9, 14]])"
      ]
     },
     "execution_count": 109,
     "metadata": {},
     "output_type": "execute_result"
    }
   ],
   "source": [
    "# Transposição\n",
    "arr.T"
   ]
  },
  {
   "cell_type": "code",
   "execution_count": 110,
   "id": "a6122f7e",
   "metadata": {},
   "outputs": [],
   "source": [
    "# Ao fazer processamentos de matrizes, talvez você realize isto com muita frequência\n",
    "# - por exemplo, quando calcular o produto de matrizes interna usando np.dot:\n",
    "arr = np.random.randn(6,3)"
   ]
  },
  {
   "cell_type": "code",
   "execution_count": 111,
   "id": "fa660d18",
   "metadata": {},
   "outputs": [
    {
     "data": {
      "text/plain": [
       "array([[ 0.59125296,  0.49836162, -1.17360498],\n",
       "       [ 0.00877596,  1.19548333, -0.39226487],\n",
       "       [ 0.36991602,  0.46448902,  0.30508182],\n",
       "       [-0.74665799,  1.43932729, -0.46478513],\n",
       "       [ 1.00791244, -1.19694108,  0.2328644 ],\n",
       "       [ 0.52205605, -1.56101557,  0.83982868]])"
      ]
     },
     "execution_count": 111,
     "metadata": {},
     "output_type": "execute_result"
    }
   ],
   "source": [
    "arr"
   ]
  },
  {
   "cell_type": "code",
   "execution_count": 112,
   "id": "21adab17",
   "metadata": {},
   "outputs": [
    {
     "data": {
      "text/plain": [
       "array([[ 2.33242311, -2.61906342,  0.43569483],\n",
       "       [-2.61906342,  7.83439534, -3.17080717],\n",
       "       [ 0.43569483, -3.17080717,  2.59985855]])"
      ]
     },
     "execution_count": 112,
     "metadata": {},
     "output_type": "execute_result"
    }
   ],
   "source": [
    "# Produto de Matrizes\n",
    "np.dot(arr.T, arr)"
   ]
  },
  {
   "cell_type": "code",
   "execution_count": 113,
   "id": "4effdb4d",
   "metadata": {},
   "outputs": [],
   "source": [
    "# Para arrays de dimensões maiores, transpose aceitará uma tupla de números de eixos para permutá-los \n",
    "arr = np.arange(16).reshape((2, 2, 4))"
   ]
  },
  {
   "cell_type": "code",
   "execution_count": 114,
   "id": "6aae6286",
   "metadata": {},
   "outputs": [
    {
     "data": {
      "text/plain": [
       "array([[[ 0,  1,  2,  3],\n",
       "        [ 4,  5,  6,  7]],\n",
       "\n",
       "       [[ 8,  9, 10, 11],\n",
       "        [12, 13, 14, 15]]])"
      ]
     },
     "execution_count": 114,
     "metadata": {},
     "output_type": "execute_result"
    }
   ],
   "source": [
    "arr"
   ]
  },
  {
   "cell_type": "code",
   "execution_count": 115,
   "id": "9d0e7b21",
   "metadata": {},
   "outputs": [
    {
     "data": {
      "text/plain": [
       "array([[[ 0,  1,  2,  3],\n",
       "        [ 8,  9, 10, 11]],\n",
       "\n",
       "       [[ 4,  5,  6,  7],\n",
       "        [12, 13, 14, 15]]])"
      ]
     },
     "execution_count": 115,
     "metadata": {},
     "output_type": "execute_result"
    }
   ],
   "source": [
    "arr.transpose((1, 0, 2))"
   ]
  },
  {
   "cell_type": "code",
   "execution_count": 116,
   "id": "1afff8e0",
   "metadata": {},
   "outputs": [
    {
     "data": {
      "text/plain": [
       "array([[[ 0,  1,  2,  3],\n",
       "        [ 4,  5,  6,  7]],\n",
       "\n",
       "       [[ 8,  9, 10, 11],\n",
       "        [12, 13, 14, 15]]])"
      ]
     },
     "execution_count": 116,
     "metadata": {},
     "output_type": "execute_result"
    }
   ],
   "source": [
    "arr"
   ]
  },
  {
   "cell_type": "code",
   "execution_count": 117,
   "id": "d9287b20",
   "metadata": {},
   "outputs": [
    {
     "data": {
      "text/plain": [
       "array([[[ 0,  4],\n",
       "        [ 1,  5],\n",
       "        [ 2,  6],\n",
       "        [ 3,  7]],\n",
       "\n",
       "       [[ 8, 12],\n",
       "        [ 9, 13],\n",
       "        [10, 14],\n",
       "        [11, 15]]])"
      ]
     },
     "execution_count": 117,
     "metadata": {},
     "output_type": "execute_result"
    }
   ],
   "source": [
    "# O ndarray tem o método swapaxes, que aceita um par de números de eixos e troca os eixos indicados para \n",
    "# reorganizar os dados\n",
    "arr.swapaxes(1,2)"
   ]
  },
  {
   "cell_type": "markdown",
   "id": "0f02087d",
   "metadata": {},
   "source": [
    "# 4.2 Funções Universais: Funções rápidas de arrays para todos os elementos\n",
    "    \n",
    "Uma função universal, ufunc, é uma função que executa operações em todos os elementos nos dados ndarrays. Podemos\n",
    "nelas como wrappers vetorizados rápidos para funções simples que aceitam um ou mais valores escalares e geram um\n",
    "ou mais resultados escalares."
   ]
  },
  {
   "cell_type": "code",
   "execution_count": 118,
   "id": "a66025c3",
   "metadata": {},
   "outputs": [
    {
     "data": {
      "text/plain": [
       "array([0, 1, 2, 3, 4, 5, 6, 7, 8, 9])"
      ]
     },
     "execution_count": 118,
     "metadata": {},
     "output_type": "execute_result"
    }
   ],
   "source": [
    "\n",
    "arr = np.arange(10)\n",
    "arr"
   ]
  },
  {
   "cell_type": "code",
   "execution_count": 119,
   "id": "3adee3dc",
   "metadata": {},
   "outputs": [
    {
     "data": {
      "text/plain": [
       "array([0.        , 1.        , 1.41421356, 1.73205081, 2.        ,\n",
       "       2.23606798, 2.44948974, 2.64575131, 2.82842712, 3.        ])"
      ]
     },
     "execution_count": 119,
     "metadata": {},
     "output_type": "execute_result"
    }
   ],
   "source": [
    "# Muitas ufuncs são transformações simples em todos os elementos, como sqrt ou exp:\n",
    "# Essas funções são chamadas de ufuncs unárias.\n",
    "np.sqrt(arr)"
   ]
  },
  {
   "cell_type": "code",
   "execution_count": 120,
   "id": "dfa3c7ab",
   "metadata": {},
   "outputs": [
    {
     "data": {
      "text/plain": [
       "array([1.00000000e+00, 2.71828183e+00, 7.38905610e+00, 2.00855369e+01,\n",
       "       5.45981500e+01, 1.48413159e+02, 4.03428793e+02, 1.09663316e+03,\n",
       "       2.98095799e+03, 8.10308393e+03])"
      ]
     },
     "execution_count": 120,
     "metadata": {},
     "output_type": "execute_result"
    }
   ],
   "source": [
    "np.exp(arr)"
   ]
  },
  {
   "cell_type": "code",
   "execution_count": 121,
   "id": "c3869791",
   "metadata": {},
   "outputs": [],
   "source": [
    "# Outras, como add ou maximum, aceitam dois arrays (portanto ufuncs binárias) e devolvem um único array\n",
    "x = np.random.randn(8)\n",
    "y = np.random.randn(8)"
   ]
  },
  {
   "cell_type": "code",
   "execution_count": 122,
   "id": "997647e8",
   "metadata": {},
   "outputs": [
    {
     "data": {
      "text/plain": [
       "array([ 0.40731485,  0.23190697,  0.44085181, -1.68851505,  0.31333883,\n",
       "       -0.74245266,  1.13340892, -0.58045268])"
      ]
     },
     "execution_count": 122,
     "metadata": {},
     "output_type": "execute_result"
    }
   ],
   "source": [
    "x"
   ]
  },
  {
   "cell_type": "code",
   "execution_count": 123,
   "id": "f7da1ea2",
   "metadata": {},
   "outputs": [
    {
     "data": {
      "text/plain": [
       "array([ 1.25432254, -0.24046958, -1.57167943,  1.18363278,  1.78673331,\n",
       "       -0.69617247,  0.70802183, -0.53688504])"
      ]
     },
     "execution_count": 123,
     "metadata": {},
     "output_type": "execute_result"
    }
   ],
   "source": [
    "y"
   ]
  },
  {
   "cell_type": "code",
   "execution_count": 124,
   "id": "06424f6b",
   "metadata": {},
   "outputs": [
    {
     "data": {
      "text/plain": [
       "array([ 1.25432254,  0.23190697,  0.44085181,  1.18363278,  1.78673331,\n",
       "       -0.69617247,  1.13340892, -0.53688504])"
      ]
     },
     "execution_count": 124,
     "metadata": {},
     "output_type": "execute_result"
    }
   ],
   "source": [
    "np.maximum(x,y)"
   ]
  },
  {
   "cell_type": "code",
   "execution_count": 125,
   "id": "ff6a340f",
   "metadata": {},
   "outputs": [],
   "source": [
    "# Uma ufunc pode devolver vários arrays. modf é um exemplo;ela é uma versão vetorizada da função embutida divmod de\n",
    "# Python e devolve as partes fracionária e inteira de um array de ponto flutuante.\n",
    "arr = np.random.randn(7) * 5"
   ]
  },
  {
   "cell_type": "code",
   "execution_count": 126,
   "id": "5688ffa9",
   "metadata": {},
   "outputs": [
    {
     "data": {
      "text/plain": [
       "array([-4.72654139,  1.26459433,  2.59859852,  0.6960171 , -7.44095834,\n",
       "        2.4393164 ,  1.81080848])"
      ]
     },
     "execution_count": 126,
     "metadata": {},
     "output_type": "execute_result"
    }
   ],
   "source": [
    "arr"
   ]
  },
  {
   "cell_type": "code",
   "execution_count": 127,
   "id": "a4d938e5",
   "metadata": {},
   "outputs": [],
   "source": [
    "remainder, whole_part = np.modf(arr)"
   ]
  },
  {
   "cell_type": "code",
   "execution_count": 128,
   "id": "2df19c66",
   "metadata": {},
   "outputs": [
    {
     "data": {
      "text/plain": [
       "array([-0.72654139,  0.26459433,  0.59859852,  0.6960171 , -0.44095834,\n",
       "        0.4393164 ,  0.81080848])"
      ]
     },
     "execution_count": 128,
     "metadata": {},
     "output_type": "execute_result"
    }
   ],
   "source": [
    "remainder"
   ]
  },
  {
   "cell_type": "code",
   "execution_count": 129,
   "id": "d6ee2d5c",
   "metadata": {},
   "outputs": [
    {
     "data": {
      "text/plain": [
       "array([-4.,  1.,  2.,  0., -7.,  2.,  1.])"
      ]
     },
     "execution_count": 129,
     "metadata": {},
     "output_type": "execute_result"
    }
   ],
   "source": [
    "whole_part"
   ]
  },
  {
   "cell_type": "code",
   "execution_count": 130,
   "id": "534d464f",
   "metadata": {},
   "outputs": [
    {
     "data": {
      "text/plain": [
       "array([-4.72654139,  1.26459433,  2.59859852,  0.6960171 , -7.44095834,\n",
       "        2.4393164 ,  1.81080848])"
      ]
     },
     "execution_count": 130,
     "metadata": {},
     "output_type": "execute_result"
    }
   ],
   "source": [
    "# As ufuncs aceitam um argumento opcional out que lhes permite atuar in-place nos arrays:\n",
    "arr"
   ]
  },
  {
   "cell_type": "code",
   "execution_count": 131,
   "id": "06803acd",
   "metadata": {},
   "outputs": [
    {
     "name": "stderr",
     "output_type": "stream",
     "text": [
      "/tmp/ipykernel_20879/2296558006.py:1: RuntimeWarning: invalid value encountered in sqrt\n",
      "  np.sqrt(arr)\n"
     ]
    },
    {
     "data": {
      "text/plain": [
       "array([       nan, 1.12454183, 1.61201691, 0.83427639,        nan,\n",
       "       1.56183111, 1.34566284])"
      ]
     },
     "execution_count": 131,
     "metadata": {},
     "output_type": "execute_result"
    }
   ],
   "source": [
    "np.sqrt(arr)"
   ]
  },
  {
   "cell_type": "code",
   "execution_count": 132,
   "id": "800150a7",
   "metadata": {},
   "outputs": [
    {
     "name": "stderr",
     "output_type": "stream",
     "text": [
      "/tmp/ipykernel_20879/269955669.py:1: RuntimeWarning: invalid value encountered in sqrt\n",
      "  np.sqrt(arr, arr)\n"
     ]
    },
    {
     "data": {
      "text/plain": [
       "array([       nan, 1.12454183, 1.61201691, 0.83427639,        nan,\n",
       "       1.56183111, 1.34566284])"
      ]
     },
     "execution_count": 132,
     "metadata": {},
     "output_type": "execute_result"
    }
   ],
   "source": [
    "np.sqrt(arr, arr)"
   ]
  },
  {
   "cell_type": "code",
   "execution_count": 133,
   "id": "8d4298a2",
   "metadata": {},
   "outputs": [
    {
     "data": {
      "text/plain": [
       "array([       nan, 1.12454183, 1.61201691, 0.83427639,        nan,\n",
       "       1.56183111, 1.34566284])"
      ]
     },
     "execution_count": 133,
     "metadata": {},
     "output_type": "execute_result"
    }
   ],
   "source": [
    "arr"
   ]
  },
  {
   "cell_type": "markdown",
   "id": "17b35b75",
   "metadata": {},
   "source": [
    "# 4.3 Programação orientada a arrays\n",
    "\n",
    "Usar arrays NumPy permite expressar vários tipos de tarefas de processamento de dados na forma de expressões\n",
    "concisas de arrays que poderiam, do contrári, exigir a escrita de laços. Essa prática de substituir laços explí-\n",
    "citos por expressões de arrays é comumente chamada de vetorização.\n"
   ]
  },
  {
   "cell_type": "code",
   "execution_count": 134,
   "id": "a9a2dff0",
   "metadata": {},
   "outputs": [],
   "source": [
    "# Como um exemplo simples, suponha que quiséssemos avaliar a função sqrt(x^2 + y^2) para uma grade regular de\n",
    "# valores. A função np.meshgrid aceita dois arrays 1D e gera duas matrizes 2D correspondentes a todos os pares\n",
    "# (x, y) nos dois arrays\n",
    "points = np.arange(-5, 5, 0.01)"
   ]
  },
  {
   "cell_type": "code",
   "execution_count": 135,
   "id": "0716092e",
   "metadata": {},
   "outputs": [],
   "source": [
    "xs, ys  = np.meshgrid(points, points)"
   ]
  },
  {
   "cell_type": "code",
   "execution_count": 136,
   "id": "96406ce5",
   "metadata": {},
   "outputs": [
    {
     "data": {
      "text/plain": [
       "array([[-5.  , -5.  , -5.  , ..., -5.  , -5.  , -5.  ],\n",
       "       [-4.99, -4.99, -4.99, ..., -4.99, -4.99, -4.99],\n",
       "       [-4.98, -4.98, -4.98, ..., -4.98, -4.98, -4.98],\n",
       "       ...,\n",
       "       [ 4.97,  4.97,  4.97, ...,  4.97,  4.97,  4.97],\n",
       "       [ 4.98,  4.98,  4.98, ...,  4.98,  4.98,  4.98],\n",
       "       [ 4.99,  4.99,  4.99, ...,  4.99,  4.99,  4.99]])"
      ]
     },
     "execution_count": 136,
     "metadata": {},
     "output_type": "execute_result"
    }
   ],
   "source": [
    "ys"
   ]
  },
  {
   "cell_type": "code",
   "execution_count": 137,
   "id": "b6b3ac2d",
   "metadata": {},
   "outputs": [],
   "source": [
    "# Avaliar a função é uma questão de escrever a mesma expressão que você escreveria com dois pontos:\n",
    "z = np.sqrt(xs ** 2 + ys ** 2)"
   ]
  },
  {
   "cell_type": "code",
   "execution_count": 138,
   "id": "bce28b2d",
   "metadata": {},
   "outputs": [
    {
     "data": {
      "text/plain": [
       "array([[7.07106781, 7.06400028, 7.05693985, ..., 7.04988652, 7.05693985,\n",
       "        7.06400028],\n",
       "       [7.06400028, 7.05692568, 7.04985815, ..., 7.04279774, 7.04985815,\n",
       "        7.05692568],\n",
       "       [7.05693985, 7.04985815, 7.04278354, ..., 7.03571603, 7.04278354,\n",
       "        7.04985815],\n",
       "       ...,\n",
       "       [7.04988652, 7.04279774, 7.03571603, ..., 7.0286414 , 7.03571603,\n",
       "        7.04279774],\n",
       "       [7.05693985, 7.04985815, 7.04278354, ..., 7.03571603, 7.04278354,\n",
       "        7.04985815],\n",
       "       [7.06400028, 7.05692568, 7.04985815, ..., 7.04279774, 7.04985815,\n",
       "        7.05692568]])"
      ]
     },
     "execution_count": 138,
     "metadata": {},
     "output_type": "execute_result"
    }
   ],
   "source": [
    "z"
   ]
  },
  {
   "cell_type": "code",
   "execution_count": 139,
   "id": "12ef806f",
   "metadata": {},
   "outputs": [],
   "source": [
    "# Uma prévia do Capitulo 9 \n",
    "import matplotlib.pyplot as plt"
   ]
  },
  {
   "cell_type": "code",
   "execution_count": 140,
   "id": "c264b2d3",
   "metadata": {},
   "outputs": [
    {
     "data": {
      "text/plain": [
       "<matplotlib.colorbar.Colorbar at 0x7f4ff13a4640>"
      ]
     },
     "execution_count": 140,
     "metadata": {},
     "output_type": "execute_result"
    },
    {
     "data": {
      "image/png": "[encoded data removed]",
      "text/plain": [
       "<Figure size 640x480 with 2 Axes>"
      ]
     },
     "metadata": {},
     "output_type": "display_data"
    }
   ],
   "source": [
    "plt.imshow(z, cmap=plt.cm.gray); plt.colorbar()"
   ]
  },
  {
   "cell_type": "code",
   "execution_count": 141,
   "id": "69cb870c",
   "metadata": {},
   "outputs": [
    {
     "data": {
      "text/plain": [
       "<matplotlib.colorbar.Colorbar at 0x7f4ff12853d0>"
      ]
     },
     "execution_count": 141,
     "metadata": {},
     "output_type": "execute_result"
    },
    {
     "data": {
      "image/png": "[encoded data removed]",
      "text/plain": [
       "<Figure size 640x480 with 2 Axes>"
      ]
     },
     "metadata": {},
     "output_type": "display_data"
    }
   ],
   "source": [
    "plt.title(\"Image plot of $\\sqrt{x^2 + y^2}$ for a grid of values\")\n",
    "plt.imshow(z, cmap=plt.cm.gray); plt.colorbar()"
   ]
  },
  {
   "cell_type": "markdown",
   "id": "d35c1ad2",
   "metadata": {},
   "source": [
    "##### Expressando uma lógica condicional como operações de array\n",
    "\n",
    "A função numpy.where é uma versão vetorizada da expressão ternária x if condition else y."
   ]
  },
  {
   "cell_type": "code",
   "execution_count": 142,
   "id": "a5e7a4f7",
   "metadata": {},
   "outputs": [],
   "source": [
    "# Suponha que tivéssemos um array booleano e dois arrays de valores:\n",
    "xarr = np.array([1.1, 1.2, 1.3, 1.4, 1.5])\n",
    "yarr = np.array([2.1, 2.2, 2.3, 2.4, 2.5])\n",
    "\n",
    "cond = np.array([True, False, True, True, False])"
   ]
  },
  {
   "cell_type": "code",
   "execution_count": 143,
   "id": "ca437c34",
   "metadata": {},
   "outputs": [
    {
     "data": {
      "text/plain": [
       "[1.1, 2.2, 1.3, 1.4, 2.5]"
      ]
     },
     "execution_count": 143,
     "metadata": {},
     "output_type": "execute_result"
    }
   ],
   "source": [
    "# Suponha que queremos tomar um valor de xarr sempre que o valor correspondente em cond seja True e, caso contrário\n",
    "# tomar o valor de yarr. Uma list comprehension que faça isso pode ter o seguinte aspecto:\n",
    "result = [(x if c else y)\n",
    "    for x, y, c in zip(xarr, yarr, cond)]\n",
    "result"
   ]
  },
  {
   "cell_type": "code",
   "execution_count": 144,
   "id": "b0885c86",
   "metadata": {},
   "outputs": [
    {
     "data": {
      "text/plain": [
       "array([1.1, 2.2, 1.3, 1.4, 2.5])"
      ]
     },
     "execution_count": 144,
     "metadata": {},
     "output_type": "execute_result"
    }
   ],
   "source": [
    "# Podemos escrever o mesmo código com np.where de modo bem conciso:\n",
    "result = np.where(cond, xarr, yarr)\n",
    "result"
   ]
  },
  {
   "cell_type": "markdown",
   "id": "5ac4ab6b",
   "metadata": {},
   "source": [
    "##### O segundo e o terceiro argumentos de np.where não precisam ser arrays: um deles ou ambos, podem ser escalares.\n",
    "    \n",
    "Um uso típico de where em análise de dados é aquele em que geramos um novo array de valores com base em outro array"
   ]
  },
  {
   "cell_type": "code",
   "execution_count": 145,
   "id": "b432462c",
   "metadata": {},
   "outputs": [
    {
     "data": {
      "text/plain": [
       "array([[ 0.06365845,  0.52206725, -0.30131559,  0.32482455],\n",
       "       [-0.00275236,  0.04416234, -1.15045367, -0.07365655],\n",
       "       [-0.45318545, -0.14837166, -0.71147802, -0.90063137],\n",
       "       [ 0.77101804, -0.31473393, -0.73218885,  0.45192323]])"
      ]
     },
     "execution_count": 145,
     "metadata": {},
     "output_type": "execute_result"
    }
   ],
   "source": [
    "# Suponha que você tivesse uma matriz de dados gerados aleatoriamente e quisesse substituir todos os valores \n",
    "# positivos por 2 e todos os valores negativos por -2.\n",
    "arr = np.random.randn(4,4)\n",
    "arr"
   ]
  },
  {
   "cell_type": "code",
   "execution_count": 146,
   "id": "d55e9d73",
   "metadata": {},
   "outputs": [
    {
     "data": {
      "text/plain": [
       "array([[ True,  True, False,  True],\n",
       "       [False,  True, False, False],\n",
       "       [False, False, False, False],\n",
       "       [ True, False, False,  True]])"
      ]
     },
     "execution_count": 146,
     "metadata": {},
     "output_type": "execute_result"
    }
   ],
   "source": [
    "arr > 0"
   ]
  },
  {
   "cell_type": "code",
   "execution_count": 147,
   "id": "0c09e31f",
   "metadata": {},
   "outputs": [
    {
     "data": {
      "text/plain": [
       "array([[ 2,  2, -2,  2],\n",
       "       [-2,  2, -2, -2],\n",
       "       [-2, -2, -2, -2],\n",
       "       [ 2, -2, -2,  2]])"
      ]
     },
     "execution_count": 147,
     "metadata": {},
     "output_type": "execute_result"
    }
   ],
   "source": [
    "np.where(arr > 0, 2, -2)"
   ]
  },
  {
   "cell_type": "code",
   "execution_count": 148,
   "id": "ab4cc8cd",
   "metadata": {},
   "outputs": [
    {
     "data": {
      "text/plain": [
       "array([[ 2.        ,  2.        , -0.30131559,  2.        ],\n",
       "       [-0.00275236,  2.        , -1.15045367, -0.07365655],\n",
       "       [-0.45318545, -0.14837166, -0.71147802, -0.90063137],\n",
       "       [ 2.        , -0.31473393, -0.73218885,  2.        ]])"
      ]
     },
     "execution_count": 148,
     "metadata": {},
     "output_type": "execute_result"
    }
   ],
   "source": [
    "# Podemos combinar escalares e arrays quando usamos np.where. Por exemplo, posso substituir todos os valores\n",
    "# positivos em arr pela constante 2\n",
    "np.where(arr > 0, 2, arr) # define somente os valores positivos com 2"
   ]
  },
  {
   "cell_type": "markdown",
   "id": "7e5c9a56",
   "metadata": {},
   "source": [
    "##### Os arrays passados para np.where podem ser mais que apenas arrays de tamanhos iguais ou escalares."
   ]
  },
  {
   "cell_type": "markdown",
   "id": "59ba2a37",
   "metadata": {},
   "source": [
    "##### Métodos matemáticos e estatísticos\n",
    "\n",
    "Um conjunto de funções matemáticas que calcula estatísticas sobre um array inteiro ou sobre os dados ao longo de um\n",
    "eixo é acessível por meio de métodos da classe.\n",
    "\n",
    "Pode usar agregações (com frequencia chamadas de reduções), como sum, mean, e std(desvio-padrão), seja chamando o \n",
    "método da instância do array ou usando a função de nível superior do NumPy."
   ]
  },
  {
   "cell_type": "code",
   "execution_count": 149,
   "id": "bb558603",
   "metadata": {},
   "outputs": [
    {
     "data": {
      "text/plain": [
       "array([[ 1.42139458, -0.50692228,  0.48824187, -2.12247587],\n",
       "       [-0.22873011, -0.93384387, -1.3701024 ,  0.63276009],\n",
       "       [-1.72840478,  0.80636069,  0.59224193, -1.13393691],\n",
       "       [-0.60457482,  0.64087114,  0.4093509 ,  1.34094941],\n",
       "       [-0.06176182,  0.78586359, -1.89301273,  1.81090532]])"
      ]
     },
     "execution_count": 149,
     "metadata": {},
     "output_type": "execute_result"
    }
   ],
   "source": [
    "# Exemplo, gerarei alguns dados aleatórios normalmente distribuídos e calcularei algumas estatísticas de agregações\n",
    "arr = np.random.randn(5,4)\n",
    "arr"
   ]
  },
  {
   "cell_type": "code",
   "execution_count": 150,
   "id": "47d892ba",
   "metadata": {},
   "outputs": [
    {
     "data": {
      "text/plain": [
       "-0.0827413029269007"
      ]
     },
     "execution_count": 150,
     "metadata": {},
     "output_type": "execute_result"
    }
   ],
   "source": [
    "# Média \n",
    "arr.mean()"
   ]
  },
  {
   "cell_type": "code",
   "execution_count": 151,
   "id": "162b4450",
   "metadata": {},
   "outputs": [
    {
     "data": {
      "text/plain": [
       "-0.0827413029269007"
      ]
     },
     "execution_count": 151,
     "metadata": {},
     "output_type": "execute_result"
    }
   ],
   "source": [
    "np.mean(arr)"
   ]
  },
  {
   "cell_type": "code",
   "execution_count": 152,
   "id": "4c7bad88",
   "metadata": {},
   "outputs": [
    {
     "data": {
      "text/plain": [
       "-1.654826058538014"
      ]
     },
     "execution_count": 152,
     "metadata": {},
     "output_type": "execute_result"
    }
   ],
   "source": [
    "# Soma\n",
    "arr.sum()"
   ]
  },
  {
   "cell_type": "markdown",
   "id": "1cac824f",
   "metadata": {},
   "source": [
    "##### Funções como mean e sum aceitam um argumento opcional axis que calcula a estatística no eixo dado.\n",
    "\n",
    "Resultando em um array com uma dimensão a menos"
   ]
  },
  {
   "cell_type": "code",
   "execution_count": 153,
   "id": "822636c3",
   "metadata": {},
   "outputs": [
    {
     "data": {
      "text/plain": [
       "array([-0.17994043, -0.47497907, -0.36593477,  0.44664916,  0.16049859])"
      ]
     },
     "execution_count": 153,
     "metadata": {},
     "output_type": "execute_result"
    }
   ],
   "source": [
    "arr.mean(axis=1)"
   ]
  },
  {
   "cell_type": "code",
   "execution_count": 154,
   "id": "3c81cc4f",
   "metadata": {},
   "outputs": [
    {
     "data": {
      "text/plain": [
       "array([-1.20207696,  0.79232927, -1.77328042,  0.52820205])"
      ]
     },
     "execution_count": 154,
     "metadata": {},
     "output_type": "execute_result"
    }
   ],
   "source": [
    "arr.sum(axis=0)"
   ]
  },
  {
   "cell_type": "markdown",
   "id": "76165fd9",
   "metadata": {},
   "source": [
    "##### Nesse caso:\n",
    "    * arr.mean(1) => Calcule a média pelas colunas;\n",
    "    * arr.sum(0) => Calcule a soma pelas linhas;"
   ]
  },
  {
   "cell_type": "code",
   "execution_count": 155,
   "id": "5acf7891",
   "metadata": {},
   "outputs": [],
   "source": [
    "# Outros métodos como cumsum e cumprod não fazem agregações, gerando um array de resultados intermediários no lugar\n",
    "arr = np.array([0, 1, 2, 3, 4, 5, 6, 7])"
   ]
  },
  {
   "cell_type": "code",
   "execution_count": 156,
   "id": "713e00fc",
   "metadata": {},
   "outputs": [
    {
     "data": {
      "text/plain": [
       "array([ 0,  1,  3,  6, 10, 15, 21, 28])"
      ]
     },
     "execution_count": 156,
     "metadata": {},
     "output_type": "execute_result"
    }
   ],
   "source": [
    "# cumsum()\n",
    "arr.cumsum()"
   ]
  },
  {
   "cell_type": "code",
   "execution_count": 157,
   "id": "df5d2d0c",
   "metadata": {},
   "outputs": [
    {
     "data": {
      "text/plain": [
       "array([[0, 1, 2],\n",
       "       [3, 4, 5],\n",
       "       [6, 7, 8]])"
      ]
     },
     "execution_count": 157,
     "metadata": {},
     "output_type": "execute_result"
    }
   ],
   "source": [
    "arr = np.array([[0, 1, 2], [3, 4, 5], [6, 7, 8]])\n",
    "arr"
   ]
  },
  {
   "cell_type": "code",
   "execution_count": 159,
   "id": "ad96ab6b",
   "metadata": {},
   "outputs": [
    {
     "data": {
      "text/plain": [
       "array([[  0,   0,   0],\n",
       "       [  3,  12,  60],\n",
       "       [  6,  42, 336]])"
      ]
     },
     "execution_count": 159,
     "metadata": {},
     "output_type": "execute_result"
    }
   ],
   "source": [
    "arr.cumprod(axis=1)"
   ]
  },
  {
   "cell_type": "markdown",
   "id": "76eaa1ec",
   "metadata": {},
   "source": [
    "##### Métodos\n",
    "\n",
    "sum => Soma de todos os elmentos do array ou ao longo de um eixo.Arrays de tamanho zero têm soma igual a 0;\n",
    "\n",
    "mean => Média aritmética, array de tamanho zero têm média NaN;\n",
    "    \n",
    "std, var => Desvio-padrão e variância, respectivamente, com graus opcionais de liberdade (denominador default n);\n",
    "\n",
    "min, max => Mínimo e Máximo;\n",
    "\n",
    "argmin, argmax => Índices dos elementos mínimos e máximo, respectivamente;\n",
    "\n",
    "cumsum => Soma cumulativa dos elementos, começando de 0;\n",
    "\n",
    "cumprod => Produto cumulativo dos elementos, começando de 1;"
   ]
  },
  {
   "cell_type": "markdown",
   "id": "dc660174",
   "metadata": {},
   "source": [
    "##### Métodos para arrays booleanos \n",
    "\n",
    "Valores booleanos sofrem coerção para 1(True) e 0(False) nos métodos anteriores "
   ]
  },
  {
   "cell_type": "code",
   "execution_count": 160,
   "id": "6ac773e9",
   "metadata": {},
   "outputs": [],
   "source": [
    "# Assim, \"sum\" com frequência é usado como uma forma de contar valores True em um array booleano\n",
    "arr = np.random.randn(100)"
   ]
  },
  {
   "cell_type": "code",
   "execution_count": 161,
   "id": "40d84491",
   "metadata": {},
   "outputs": [
    {
     "data": {
      "text/plain": [
       "52"
      ]
     },
     "execution_count": 161,
     "metadata": {},
     "output_type": "execute_result"
    }
   ],
   "source": [
    "# Número de valores positivos\n",
    "(arr > 0).sum()"
   ]
  },
  {
   "cell_type": "code",
   "execution_count": 162,
   "id": "530640b5",
   "metadata": {},
   "outputs": [],
   "source": [
    "# Há dois métodos adicionais, any e all, particularmente úteis para arrays booleanos.\n",
    "# any => Testa se um ou mais valores em um array são True\n",
    "# all => Verifica se todos\n",
    "\n",
    "# Esses métodos também funcionam com arrays não booleanos, em que elementos diferentes de zero são avaliados como\n",
    "# True\n",
    "\n",
    "bools = np.array([False, False, True, False])"
   ]
  },
  {
   "cell_type": "code",
   "execution_count": 163,
   "id": "11e52c12",
   "metadata": {},
   "outputs": [
    {
     "data": {
      "text/plain": [
       "True"
      ]
     },
     "execution_count": 163,
     "metadata": {},
     "output_type": "execute_result"
    }
   ],
   "source": [
    "# Método Any\n",
    "bools.any()"
   ]
  },
  {
   "cell_type": "code",
   "execution_count": 164,
   "id": "143b935c",
   "metadata": {},
   "outputs": [
    {
     "data": {
      "text/plain": [
       "False"
      ]
     },
     "execution_count": 164,
     "metadata": {},
     "output_type": "execute_result"
    }
   ],
   "source": [
    "# Método All\n",
    "bools.all()"
   ]
  },
  {
   "cell_type": "markdown",
   "id": "646733ae",
   "metadata": {},
   "source": [
    "##### Ordenação\n",
    "\n",
    "Assim como o tipo embutido lista de Python, os arrays NumPy podem ser ordenados \"in-place\" como o método sort"
   ]
  },
  {
   "cell_type": "code",
   "execution_count": 165,
   "id": "e1c16377",
   "metadata": {},
   "outputs": [
    {
     "data": {
      "text/plain": [
       "array([ 1.4702932 ,  1.64330816, -0.58591509, -0.8275106 , -0.64892993,\n",
       "       -0.11693117])"
      ]
     },
     "execution_count": 165,
     "metadata": {},
     "output_type": "execute_result"
    }
   ],
   "source": [
    "arr = np.random.randn(6)\n",
    "arr"
   ]
  },
  {
   "cell_type": "code",
   "execution_count": 166,
   "id": "e96b0d2d",
   "metadata": {},
   "outputs": [
    {
     "data": {
      "text/plain": [
       "array([-0.8275106 , -0.64892993, -0.58591509, -0.11693117,  1.4702932 ,\n",
       "        1.64330816])"
      ]
     },
     "execution_count": 166,
     "metadata": {},
     "output_type": "execute_result"
    }
   ],
   "source": [
    "# Sort()\n",
    "arr.sort()\n",
    "arr"
   ]
  },
  {
   "cell_type": "code",
   "execution_count": 167,
   "id": "51e4bf03",
   "metadata": {},
   "outputs": [
    {
     "data": {
      "text/plain": [
       "array([[-0.83003661, -0.27782019, -0.4447435 ],\n",
       "       [-1.66518102,  0.8485313 , -0.80484821],\n",
       "       [-0.511253  , -1.12119644,  0.72072653],\n",
       "       [-0.27107647, -0.38851892,  2.53377324],\n",
       "       [-0.97380125, -0.55714258, -1.23311704]])"
      ]
     },
     "execution_count": 167,
     "metadata": {},
     "output_type": "execute_result"
    }
   ],
   "source": [
    "# Podemos ordenar cada seção unidimensional de valores em um array multidimensional \"in-place\" ao longo de um eixo,\n",
    "# passando o número desse eixo para sort:\n",
    "arr = np.random.randn(5,3)\n",
    "arr"
   ]
  },
  {
   "cell_type": "code",
   "execution_count": 168,
   "id": "6c9b1135",
   "metadata": {},
   "outputs": [
    {
     "data": {
      "text/plain": [
       "array([[-0.83003661, -0.4447435 , -0.27782019],\n",
       "       [-1.66518102, -0.80484821,  0.8485313 ],\n",
       "       [-1.12119644, -0.511253  ,  0.72072653],\n",
       "       [-0.38851892, -0.27107647,  2.53377324],\n",
       "       [-1.23311704, -0.97380125, -0.55714258]])"
      ]
     },
     "execution_count": 168,
     "metadata": {},
     "output_type": "execute_result"
    }
   ],
   "source": [
    "# Sort(1)\n",
    "arr.sort(1)\n",
    "arr"
   ]
  },
  {
   "cell_type": "markdown",
   "id": "d2cf8e46",
   "metadata": {},
   "source": [
    "##### O método de nível superior \"np.sort\" devolve uma cópia ordenada de um array, em vez de modificá-lo \"in-place\""
   ]
  },
  {
   "cell_type": "code",
   "execution_count": 169,
   "id": "6b1212d8",
   "metadata": {},
   "outputs": [],
   "source": [
    "# Uma forma rápida e fácil de calcular os quantis de um array é ordená-lo e selecionar o valor em uma posição em\n",
    "# particular:\n",
    "large_arr = np.random.randn(1000)"
   ]
  },
  {
   "cell_type": "code",
   "execution_count": 170,
   "id": "2de97b6d",
   "metadata": {},
   "outputs": [],
   "source": [
    "# Sort()\n",
    "large_arr.sort()"
   ]
  },
  {
   "cell_type": "code",
   "execution_count": 171,
   "id": "c757bfc4",
   "metadata": {},
   "outputs": [
    {
     "data": {
      "text/plain": [
       "-1.5198105813047829"
      ]
     },
     "execution_count": 171,
     "metadata": {},
     "output_type": "execute_result"
    }
   ],
   "source": [
    "# Quantil de 5%\n",
    "large_arr[int(0.05 * len(large_arr))]"
   ]
  },
  {
   "cell_type": "markdown",
   "id": "a13f7af9",
   "metadata": {},
   "source": [
    "##### Unicidade e outras lógicas de conjuntos\n",
    "\n",
    "O NumPy tem algumas operações básicas de conjunto para ndarrays unidimensionais. Uma operação comumente utilizada\n",
    "é \"np.unique\", que devolve os valores únicos ordenados de um array"
   ]
  },
  {
   "cell_type": "code",
   "execution_count": 172,
   "id": "7fdef2d9",
   "metadata": {},
   "outputs": [],
   "source": [
    "names = np.array(['Bob', 'Joe', 'Will', 'Bob', 'Will', 'Joe', 'Joe'])"
   ]
  },
  {
   "cell_type": "code",
   "execution_count": 173,
   "id": "b62e3eb7",
   "metadata": {},
   "outputs": [
    {
     "data": {
      "text/plain": [
       "array(['Bob', 'Joe', 'Will'], dtype='<U4')"
      ]
     },
     "execution_count": 173,
     "metadata": {},
     "output_type": "execute_result"
    }
   ],
   "source": [
    "# np.unique()\n",
    "np.unique(names)"
   ]
  },
  {
   "cell_type": "code",
   "execution_count": 174,
   "id": "e2b073b7",
   "metadata": {},
   "outputs": [],
   "source": [
    "# Array de inteiros\n",
    "ints = np.array([3, 3, 3, 2, 2, 1, 1, 4, 4])"
   ]
  },
  {
   "cell_type": "code",
   "execution_count": 175,
   "id": "ba236336",
   "metadata": {},
   "outputs": [
    {
     "data": {
      "text/plain": [
       "array([1, 2, 3, 4])"
      ]
     },
     "execution_count": 175,
     "metadata": {},
     "output_type": "execute_result"
    }
   ],
   "source": [
    "# np.unique no array de inteiros\n",
    "np.unique(ints)"
   ]
  },
  {
   "cell_type": "code",
   "execution_count": 176,
   "id": "2ebe1e20",
   "metadata": {},
   "outputs": [
    {
     "data": {
      "text/plain": [
       "['Bob', 'Joe', 'Will']"
      ]
     },
     "execution_count": 176,
     "metadata": {},
     "output_type": "execute_result"
    }
   ],
   "source": [
    "# Compare \"np.unique\" com a alternativa em Python puro:\n",
    "sorted(set(names))"
   ]
  },
  {
   "cell_type": "code",
   "execution_count": 177,
   "id": "76fda3fb",
   "metadata": {},
   "outputs": [],
   "source": [
    "# Outra função, np.in1d, testa pertinência dos valores de um array em outro, devolvendo um array booleano:\n",
    "values = np.array([6, 0, 0, 3, 2, 5, 6])"
   ]
  },
  {
   "cell_type": "code",
   "execution_count": 178,
   "id": "d987173f",
   "metadata": {},
   "outputs": [
    {
     "data": {
      "text/plain": [
       "array([ True, False, False,  True,  True, False,  True])"
      ]
     },
     "execution_count": 178,
     "metadata": {},
     "output_type": "execute_result"
    }
   ],
   "source": [
    "# np.in1d\n",
    "np.in1d(values, [2, 3, 6])"
   ]
  },
  {
   "cell_type": "markdown",
   "id": "866eed7a",
   "metadata": {},
   "source": [
    "##### Métodos \n",
    "\n",
    "unique(x) => Calcula os elementos únicos ordenados de x.\n",
    "\n",
    "intersect1d(x) => Calcula os elementos comuns ordenados em x e y.\n",
    "\n",
    "union1d(x, y) => Calcula a união ordenada dos elementos.\n",
    "\n",
    "in1d(x, y) => Calcula um array booleano indicando se cada elemento de x está contido em y.\n",
    "\n",
    "setdiff1d(x, y) => Diferença entre conjuntos, isto é, elementos em x que não estão em y.\n",
    "\n",
    "setxor1d(x, y) => Diferença simétrica entre conjuntos:elementos que estão em apenas um dos arrays, mas não em ambos"
   ]
  },
  {
   "cell_type": "markdown",
   "id": "fb6e2be1",
   "metadata": {},
   "source": [
    "## 4.4 Entrada e saída de arquivos com arrays\n",
    "\n",
    "O NumPy é capaz de salvar e carregar dados de e para o disco, seja em formato-texto ou em formato binário.\n",
    "\n",
    "Nesta seção, será discutido somente o formato binário embutido no NumPy, pois a maioria dos usuários preferirá o \n",
    "Pandas e outras ferramentas para carregar texto ou dados tabulares."
   ]
  },
  {
   "cell_type": "markdown",
   "id": "b5858e98",
   "metadata": {},
   "source": [
    "##### np.save e np.load são as duas funções que representam a função de salvar e carregar dados do array em disco."
   ]
  },
  {
   "cell_type": "code",
   "execution_count": 179,
   "id": "61e8122c",
   "metadata": {},
   "outputs": [
    {
     "data": {
      "text/plain": [
       "array([0, 1, 2, 3, 4, 5, 6, 7, 8, 9])"
      ]
     },
     "execution_count": 179,
     "metadata": {},
     "output_type": "execute_result"
    }
   ],
   "source": [
    "# Os arrays são salvos por padrão em um formato binário puro, não compactado, com a extensão de arquivo \".npy\"\n",
    "arr = np.arange(10)\n",
    "arr"
   ]
  },
  {
   "cell_type": "code",
   "execution_count": 180,
   "id": "8b3057f9",
   "metadata": {},
   "outputs": [],
   "source": [
    "# np.save()\n",
    "np.save('Exemplo_Salvar',arr)"
   ]
  },
  {
   "cell_type": "code",
   "execution_count": 181,
   "id": "ccc84fc2",
   "metadata": {},
   "outputs": [
    {
     "data": {
      "text/plain": [
       "array([0, 1, 2, 3, 4, 5, 6, 7, 8, 9])"
      ]
     },
     "execution_count": 181,
     "metadata": {},
     "output_type": "execute_result"
    }
   ],
   "source": [
    "# np.load()\n",
    "np.load('Exemplo_Salvar.npy')"
   ]
  },
  {
   "cell_type": "code",
   "execution_count": 182,
   "id": "b5c95ee3",
   "metadata": {},
   "outputs": [],
   "source": [
    "# Pode salvar vários arrays em um arquivo não compactado usando o \"np.savez\", passando os arrays como argumentos \n",
    "# nomeados:\n",
    "np.savez('Exemplo_Salvar_Arrays.npz', a=arr, b=arr)"
   ]
  },
  {
   "cell_type": "code",
   "execution_count": 183,
   "id": "bb67c4e4",
   "metadata": {},
   "outputs": [],
   "source": [
    "# Ao carregar um arquivo \".npz\", você obterá um objeto do tipo dicionário que carregará os arrays individuais em \n",
    "# lazy (preguiçoso):\n",
    "arch = np.load('Exemplo_Salvar_Arrays.npz')"
   ]
  },
  {
   "cell_type": "code",
   "execution_count": 184,
   "id": "ada97ccd",
   "metadata": {},
   "outputs": [
    {
     "data": {
      "text/plain": [
       "array([0, 1, 2, 3, 4, 5, 6, 7, 8, 9])"
      ]
     },
     "execution_count": 184,
     "metadata": {},
     "output_type": "execute_result"
    }
   ],
   "source": [
    "arch['b']"
   ]
  },
  {
   "cell_type": "code",
   "execution_count": 185,
   "id": "2bcf432c",
   "metadata": {},
   "outputs": [],
   "source": [
    "# Se seus dados tiverem um bom nível de compactação, pode usar o \"numpy.savez_compressed\":\n",
    "np.savez_compressed('Exemplo_Arrays_Compressado.npz',a=arr, b=arr)"
   ]
  },
  {
   "cell_type": "markdown",
   "id": "4af8a4a4",
   "metadata": {},
   "source": [
    "## 4.5 Álgebra Linear\n",
    "\n",
    "A álgebra linear, assim como a multiplicação de matrizes, as decomposições, os determinantes  e outras operações \n",
    "matemáticas em matrizes quadradas, é uma parte importante de qualquer biblioteca de arrays. De modo diferente de \n",
    "algumas linguagens como o MATLAB, multiplicar dois arrays bidimensionais com * corresponde ao produto de todos os \n",
    "elementos, e não a um produto escalar de matrizes. Desse modo, há uma função dot, que é tanto um método de array\n",
    "quanto uma função no namespace numpy, para multiplicação de matrizes:"
   ]
  },
  {
   "cell_type": "code",
   "execution_count": 187,
   "id": "79ba54c0",
   "metadata": {},
   "outputs": [],
   "source": [
    "x = np.array([[1. ,2. ,3.], [4., 5., 6.]])"
   ]
  },
  {
   "cell_type": "code",
   "execution_count": 188,
   "id": "3d1487e0",
   "metadata": {},
   "outputs": [],
   "source": [
    "y = np.array([[6., 23.],[-1, 7], [8,9]])"
   ]
  },
  {
   "cell_type": "code",
   "execution_count": 189,
   "id": "4e78bca4",
   "metadata": {},
   "outputs": [
    {
     "data": {
      "text/plain": [
       "array([[1., 2., 3.],\n",
       "       [4., 5., 6.]])"
      ]
     },
     "execution_count": 189,
     "metadata": {},
     "output_type": "execute_result"
    }
   ],
   "source": [
    "x"
   ]
  },
  {
   "cell_type": "code",
   "execution_count": 190,
   "id": "9f80e1f6",
   "metadata": {},
   "outputs": [
    {
     "data": {
      "text/plain": [
       "array([[ 6., 23.],\n",
       "       [-1.,  7.],\n",
       "       [ 8.,  9.]])"
      ]
     },
     "execution_count": 190,
     "metadata": {},
     "output_type": "execute_result"
    }
   ],
   "source": [
    "y"
   ]
  },
  {
   "cell_type": "code",
   "execution_count": 191,
   "id": "1c72daf7",
   "metadata": {},
   "outputs": [
    {
     "data": {
      "text/plain": [
       "array([[ 28.,  64.],\n",
       "       [ 67., 181.]])"
      ]
     },
     "execution_count": 191,
     "metadata": {},
     "output_type": "execute_result"
    }
   ],
   "source": [
    "x.dot(y)"
   ]
  },
  {
   "cell_type": "code",
   "execution_count": 192,
   "id": "70b63dc9",
   "metadata": {},
   "outputs": [
    {
     "data": {
      "text/plain": [
       "array([[ 28.,  64.],\n",
       "       [ 67., 181.]])"
      ]
     },
     "execution_count": 192,
     "metadata": {},
     "output_type": "execute_result"
    }
   ],
   "source": [
    "# x.dot(y) é equivalente a np.dot(x, y):\n",
    "np.dot(x, y)"
   ]
  },
  {
   "cell_type": "code",
   "execution_count": 193,
   "id": "523ec120",
   "metadata": {},
   "outputs": [
    {
     "data": {
      "text/plain": [
       "array([ 6., 15.])"
      ]
     },
     "execution_count": 193,
     "metadata": {},
     "output_type": "execute_result"
    }
   ],
   "source": [
    "# Um produto de matrizes entre um array bidimensional e um array unidimensional de tamanho apropriado resulta em \n",
    "# um array unidimensional:\n",
    "np.dot(x, np.ones(3))"
   ]
  },
  {
   "cell_type": "code",
   "execution_count": 194,
   "id": "a5dabc2b",
   "metadata": {},
   "outputs": [
    {
     "data": {
      "text/plain": [
       "array([ 6., 15.])"
      ]
     },
     "execution_count": 194,
     "metadata": {},
     "output_type": "execute_result"
    }
   ],
   "source": [
    "# O símbolo @ (conforme usado em Python 3.5) também funciona como um operador infixo que efetua uma multiplicação \n",
    "# de matrizes:\n",
    "x @ np.ones(3)"
   ]
  },
  {
   "cell_type": "markdown",
   "id": "45d66fb4",
   "metadata": {},
   "source": [
    "##### numpy.linalg tem um conjunto para padrão de decomposições de matrizes, além de operações como inverso e \n",
    "determinante.\n",
    "\n",
    "Elas estão implementandas internamente por meio das mesmas bibliotecas de álgebra linear que são padrões de mercado\n",
    "em outras linguagens como MATLAB e R, por exemplo, BLAS, LAPACK ou, posivelmente dependendo de sua versão de NumPy."
   ]
  },
  {
   "cell_type": "code",
   "execution_count": 195,
   "id": "45dd26ff",
   "metadata": {},
   "outputs": [],
   "source": [
    "from numpy.linalg import inv, qr"
   ]
  },
  {
   "cell_type": "code",
   "execution_count": 196,
   "id": "a4aab2fb",
   "metadata": {},
   "outputs": [],
   "source": [
    "X = np.random.randn(5, 5)"
   ]
  },
  {
   "cell_type": "code",
   "execution_count": 198,
   "id": "0aa6908b",
   "metadata": {},
   "outputs": [],
   "source": [
    "mat = X.T.dot(X)"
   ]
  },
  {
   "cell_type": "code",
   "execution_count": 199,
   "id": "1835fb3a",
   "metadata": {},
   "outputs": [
    {
     "data": {
      "text/plain": [
       "array([[ 2.31732078,  0.05724596,  2.30122428,  1.03791357, -0.81035501],\n",
       "       [ 0.05724596,  0.21188076, -0.24670012,  0.01192861,  0.04078199],\n",
       "       [ 2.30122428, -0.24670012,  3.55726288,  1.14395614, -0.98877642],\n",
       "       [ 1.03791357,  0.01192861,  1.14395614,  0.60521642, -0.38391516],\n",
       "       [-0.81035501,  0.04078199, -0.98877642, -0.38391516,  0.3877641 ]])"
      ]
     },
     "execution_count": 199,
     "metadata": {},
     "output_type": "execute_result"
    }
   ],
   "source": [
    "inv(mat)"
   ]
  },
  {
   "cell_type": "code",
   "execution_count": 201,
   "id": "2ef99050",
   "metadata": {},
   "outputs": [
    {
     "data": {
      "text/plain": [
       "array([[ 1.00000000e+00,  0.00000000e+00,  0.00000000e+00,\n",
       "         0.00000000e+00,  0.00000000e+00],\n",
       "       [ 6.66133815e-16,  1.00000000e+00,  0.00000000e+00,\n",
       "        -4.44089210e-16, -1.11022302e-16],\n",
       "       [ 2.22044605e-16,  2.08166817e-17,  1.00000000e+00,\n",
       "         0.00000000e+00,  1.11022302e-16],\n",
       "       [ 1.55431223e-15,  6.93889390e-17, -5.55111512e-16,\n",
       "         1.00000000e+00, -3.60822483e-16],\n",
       "       [-1.77635684e-15,  1.11022302e-16,  0.00000000e+00,\n",
       "        -8.88178420e-16,  1.00000000e+00]])"
      ]
     },
     "execution_count": 201,
     "metadata": {},
     "output_type": "execute_result"
    }
   ],
   "source": [
    "mat.dot(inv(mat))"
   ]
  },
  {
   "cell_type": "code",
   "execution_count": 202,
   "id": "2e740072",
   "metadata": {},
   "outputs": [],
   "source": [
    "q, r = qr(mat)"
   ]
  },
  {
   "cell_type": "code",
   "execution_count": 203,
   "id": "8cb7d954",
   "metadata": {},
   "outputs": [
    {
     "data": {
      "text/plain": [
       "array([[-5.43247154,  4.72112888, -0.01380899,  4.21893654, -9.10493711],\n",
       "       [ 0.        , -6.68354727, -2.11602716,  4.4943825 , -0.58052905],\n",
       "       [ 0.        ,  0.        , -1.85643918, -1.7709096 , -8.12104488],\n",
       "       [ 0.        ,  0.        ,  0.        , -5.21464665, -6.3449634 ],\n",
       "       [ 0.        ,  0.        ,  0.        ,  0.        ,  0.71911392]])"
      ]
     },
     "execution_count": 203,
     "metadata": {},
     "output_type": "execute_result"
    }
   ],
   "source": [
    "r"
   ]
  },
  {
   "cell_type": "markdown",
   "id": "c26b2895",
   "metadata": {},
   "source": [
    "##### A expressão X.T.dot(X) => Calcula o produto escalar de X com sua transposta X.T."
   ]
  },
  {
   "cell_type": "markdown",
   "id": "71f1402e",
   "metadata": {},
   "source": [
    "##### Função  Descrição\n",
    "diag => Devolve os elementos diagonais (ou fora da diagonal) de uma matriz quadrada como um array 1D, ou converte \n",
    "        um array 1D em uma matriz quadrada, com zeros fora da diagonal.\n",
    "\n",
    "dot => Multiplicação de Matrizes\n",
    "\n",
    "trace => Calcula a soma dos elementos da diagonal\n",
    "\n",
    "det => Calcula o determinante da matriz\n",
    "\n",
    "eig => Calcula os autovalores (valores próprios) e os autovetores de uma matriz quadrada\n",
    "\n",
    "inv => Calcula a inversa de uma matriz quadrada\n",
    "\n",
    "pinv => Calcula a pseudoinversa de Moore-Penrose de uma matriz\n",
    "\n",
    "qr = Calcula a decomposição de QR\n",
    "\n",
    "svd = Calcula a SVD (Singular Value Decomposition, Decomposição de Valor Singular)\n",
    "\n",
    "solve => Resolve o sistema linear Ax = b para x, em que A é uma matriz quadrada\n",
    "\n",
    "lstsq => Calcula a solução de quadrados mínimos para Ax = b"
   ]
  },
  {
   "cell_type": "markdown",
   "id": "f4e475e0",
   "metadata": {},
   "source": [
    "## 4.6 Geração de números pseudoaleatórios\n",
    "\n",
    "O módulo numpy.random suplementa o módulo embutido random de Python com funções para gerar arrays inteiros de \n",
    "valores de amostras, de modo eficaz, a partir de vários tipos de distribuição de probabilidade. Por exemplo podemos\n",
    "obter um array 4 x 4 de amostras de distribuição normal padrão usando normal:\n"
   ]
  },
  {
   "cell_type": "code",
   "execution_count": 205,
   "id": "8e93a855",
   "metadata": {},
   "outputs": [],
   "source": [
    "samples = np.random.normal(size=(4, 4))"
   ]
  },
  {
   "cell_type": "code",
   "execution_count": 206,
   "id": "00551b21",
   "metadata": {},
   "outputs": [
    {
     "data": {
      "text/plain": [
       "array([[-0.90768867,  0.22389901, -0.17976737,  0.85092141],\n",
       "       [ 0.55145661, -0.97721102,  0.2215884 ,  1.64106477],\n",
       "       [ 1.22284605, -0.10071094,  0.72515896,  0.82125115],\n",
       "       [ 1.68686428,  0.62767027, -0.40575401,  0.57107924]])"
      ]
     },
     "execution_count": 206,
     "metadata": {},
     "output_type": "execute_result"
    }
   ],
   "source": [
    "samples"
   ]
  },
  {
   "cell_type": "markdown",
   "id": "0de1cbb2",
   "metadata": {},
   "source": [
    "##### O módulo embutido random de Python, em oposição, mostra somente um valor de cada vez.\n",
    "\n",
    "Como podemos ver com base nesse benchmark, numpy.random é mais rápido, em muito mais que uma ordem de grandeza,\n",
    "para gerar amostras bem grandes:"
   ]
  },
  {
   "cell_type": "code",
   "execution_count": 207,
   "id": "fb109bfd",
   "metadata": {},
   "outputs": [],
   "source": [
    "from random import normalvariate"
   ]
  },
  {
   "cell_type": "code",
   "execution_count": 208,
   "id": "d7c91729",
   "metadata": {},
   "outputs": [],
   "source": [
    "N = 1000000"
   ]
  },
  {
   "cell_type": "code",
   "execution_count": 209,
   "id": "a5ccdb94",
   "metadata": {},
   "outputs": [
    {
     "name": "stdout",
     "output_type": "stream",
     "text": [
      "1.26 s ± 62.2 ms per loop (mean ± std. dev. of 7 runs, 1 loop each)\n"
     ]
    }
   ],
   "source": [
    "%timeit samples = [normalvariate(0, 1) for _ in range(N)]"
   ]
  },
  {
   "cell_type": "code",
   "execution_count": 210,
   "id": "cec456ce",
   "metadata": {},
   "outputs": [
    {
     "name": "stdout",
     "output_type": "stream",
     "text": [
      "56.4 ms ± 996 µs per loop (mean ± std. dev. of 7 runs, 10 loops each)\n"
     ]
    }
   ],
   "source": [
    "%timeit np.random.normal(size=N)"
   ]
  },
  {
   "cell_type": "markdown",
   "id": "521c6d85",
   "metadata": {},
   "source": [
    "##### Chamamos esses números de pseudoaleatórios porque são gerados por um algoritmo com um comportamento determinístico,\n",
    "baseado na semente(seed) do gerador de números aleatórios."
   ]
  },
  {
   "cell_type": "code",
   "execution_count": 211,
   "id": "ed2947a5",
   "metadata": {},
   "outputs": [],
   "source": [
    "# Podemos alterar a semente para a geração de números aleatórios no NumPy usando np.random.seed:\n",
    "np.random.seed(1234)"
   ]
  },
  {
   "cell_type": "markdown",
   "id": "494b24a6",
   "metadata": {},
   "source": [
    "##### As funções de geração de dados em numpy.random utilizam uma semente aleatória global. "
   ]
  },
  {
   "cell_type": "code",
   "execution_count": 213,
   "id": "ff4cad67",
   "metadata": {},
   "outputs": [],
   "source": [
    "# A fim de evitar um estado global, podemos usar numpy.random.RandomState para criar um gerador de números \n",
    "# aleatórios isolado de outros:\n",
    "rng = np.random.RandomState(1234)"
   ]
  },
  {
   "cell_type": "code",
   "execution_count": 214,
   "id": "ba844ec6",
   "metadata": {},
   "outputs": [
    {
     "data": {
      "text/plain": [
       "array([0.19151945, 0.62210877, 0.43772774, 0.78535858, 0.77997581,\n",
       "       0.27259261, 0.27646426, 0.80187218, 0.95813935, 0.87593263])"
      ]
     },
     "execution_count": 214,
     "metadata": {},
     "output_type": "execute_result"
    }
   ],
   "source": [
    "rng.random(10)"
   ]
  },
  {
   "cell_type": "markdown",
   "id": "dab287b2",
   "metadata": {},
   "source": [
    "##### Lista parcial de funções disponíveis em numpy.random\n"
   ]
  },
  {
   "cell_type": "markdown",
   "id": "01c99f66",
   "metadata": {},
   "source": [
    "##### funções\n",
    "\n",
    "seed => Fornece uma semente ao gerador de números aleatórios.\n",
    "\n",
    "permutation => Devolve uma permutação aleatória de uma sequência ou um intervalo permutado.\n",
    "\n",
    "shuffle = Permuta aleatoriamente uma sequência in-place.\n",
    "\n",
    "rand => Sorteia amostras de uma distribuição uniforme.\n",
    "\n",
    "randint => Sorteia inteiros aleatórios de uma dado intervalo de valores menores para maiores.\n",
    "\n",
    "randn => Sorteia amostras de uma distribuição normal com média 0 e desvio-padrão 1 (interface do tipo MATLAB).\n",
    "\n",
    "binomial => Sorteia amostras de uma distribuição binomial.\n",
    "\n",
    "normal => Sorteia amostras de uma distribuição normal (gaussiana).\n",
    "\n",
    "beta => Sorteia amostras de uma distribuição beta.\n",
    "\n",
    "chisquare => Sorteia amostras de uma distribuição qui-quadrada.\n",
    "\n",
    "gamma => Sorteia amostras de uma distribuição gama.\n",
    "\n",
    "uniform => Sorteia amostras de uma distribuição uniforme (0,1)"
   ]
  },
  {
   "cell_type": "markdown",
   "id": "472ea45d",
   "metadata": {},
   "source": [
    "## 4.7 Exemplo: passeios aleatórios\n",
    "    \n",
    "A simulação de passeios aleatórios, random walks é uma aplicação ilustrativa de como utilizar operações de arrays\n",
    "Inicialmente vamos considerar um passeio aleatório simples que comece em 0, com passos de 1 e -1 ocorrendo com a \n",
    "mesma probabilidade."
   ]
  },
  {
   "cell_type": "code",
   "execution_count": 215,
   "id": "4e5e7dec",
   "metadata": {},
   "outputs": [],
   "source": [
    "# Uma maneira em Python puro de implementar um único passeio aleatório com mil passos usando o módulo random\n",
    "import random\n",
    "position = 0 \n",
    "walk = [position]\n",
    "steps = 1000\n",
    "for i in range(steps):\n",
    "    step = 1 if random.randint(0, 1) else -1\n",
    "    position += step\n",
    "    walk.append(position)"
   ]
  },
  {
   "cell_type": "code",
   "execution_count": 216,
   "id": "c16082bb",
   "metadata": {},
   "outputs": [
    {
     "data": {
      "text/plain": [
       "[<matplotlib.lines.Line2D at 0x7f4ff049d7c0>]"
      ]
     },
     "execution_count": 216,
     "metadata": {},
     "output_type": "execute_result"
    },
    {
     "data": {
      "image/png": "[encoded data removed]",
      "text/plain": [
       "<Figure size 640x480 with 1 Axes>"
      ]
     },
     "metadata": {},
     "output_type": "display_data"
    }
   ],
   "source": [
    "# Uma plotagem de exemplo dos cem primeiros valores em um desses passeios aleatórios\n",
    "plt.plot(walk[:100])"
   ]
  },
  {
   "cell_type": "markdown",
   "id": "f9a7f0ac",
   "metadata": {},
   "source": [
    "##### Poderia perceber que walk é simplesmente a soma cumulativa dos passos aleatórios, e ser avaliada como uma expressão de array.\n",
    "\n",
    "Assim, utilizarei o módulo np.random para sortear mil jogadas de moeda de uma só vez, definirei essas jogadas com \n",
    "1 e -1 e calcularei a soma cumulativa:"
   ]
  },
  {
   "cell_type": "code",
   "execution_count": 217,
   "id": "cd5d1d3e",
   "metadata": {},
   "outputs": [],
   "source": [
    "nsteps = 1000"
   ]
  },
  {
   "cell_type": "code",
   "execution_count": 218,
   "id": "e217fcc3",
   "metadata": {},
   "outputs": [],
   "source": [
    "draws = np.random.randint(0, 2, size=nsteps)"
   ]
  },
  {
   "cell_type": "code",
   "execution_count": 219,
   "id": "0676ba70",
   "metadata": {},
   "outputs": [],
   "source": [
    "steps = np.where(draws > 0, 1, -1)"
   ]
  },
  {
   "cell_type": "code",
   "execution_count": 220,
   "id": "f7292d4e",
   "metadata": {},
   "outputs": [],
   "source": [
    "walk = steps.cumsum()"
   ]
  },
  {
   "cell_type": "code",
   "execution_count": 222,
   "id": "7ee5bcda",
   "metadata": {},
   "outputs": [
    {
     "data": {
      "text/plain": [
       "60"
      ]
     },
     "execution_count": 222,
     "metadata": {},
     "output_type": "execute_result"
    }
   ],
   "source": [
    "# A partir daqui, podemos extrair dados estatísticos, com o valor mínimo e máximo na trajetória do passeio:"
   ]
  },
  {
   "cell_type": "code",
   "execution_count": 223,
   "id": "81d29db2",
   "metadata": {},
   "outputs": [
    {
     "data": {
      "text/plain": [
       "-9"
      ]
     },
     "execution_count": 223,
     "metadata": {},
     "output_type": "execute_result"
    }
   ],
   "source": [
    "# Mínimo\n",
    "walk.min()"
   ]
  },
  {
   "cell_type": "code",
   "execution_count": 224,
   "id": "22178b6c",
   "metadata": {},
   "outputs": [
    {
     "data": {
      "text/plain": [
       "60"
      ]
     },
     "execution_count": 224,
     "metadata": {},
     "output_type": "execute_result"
    }
   ],
   "source": [
    "# Máximo \n",
    "walk.max()"
   ]
  },
  {
   "cell_type": "code",
   "execution_count": 225,
   "id": "19c625ef",
   "metadata": {},
   "outputs": [
    {
     "data": {
      "text/plain": [
       "297"
      ]
     },
     "execution_count": 225,
     "metadata": {},
     "output_type": "execute_result"
    }
   ],
   "source": [
    "# Saber quanto tempo demorou para que o passeio chegasse pelo menos a dez passos\n",
    "(np.abs(walk) >= 10).argmax()"
   ]
  },
  {
   "cell_type": "code",
   "execution_count": null,
   "id": "a4932751",
   "metadata": {},
   "outputs": [],
   "source": [
    "# OBSERVE => que usar argmax aqui nem sempre é eficaz, pois ele faz uma varredura completa do array."
   ]
  },
  {
   "cell_type": "markdown",
   "id": "6c54c6d2",
   "metadata": {},
   "source": [
    "##### Simulando vários passeios aleatórios de uma só vez\n",
    "\n",
    "Se a sua meta é simular vários passeios aleatórios , por exemplo, 5 mil deles, pode gerar todos os passeios \n",
    "alearórios com pequenas modificações no código anterior. \n",
    "\n",
    "Se receberem uma tupla de 2, as funções de numpy.random gerarão um array bidimensional de sorteios, e podemos \n",
    "calcular a soma cumulativa nas linhas a fim de calcular todos os 5 mil passeios aleatórios de uma só vez:"
   ]
  },
  {
   "cell_type": "code",
   "execution_count": 226,
   "id": "b3addb95",
   "metadata": {},
   "outputs": [],
   "source": [
    "nwalks = 5000"
   ]
  },
  {
   "cell_type": "code",
   "execution_count": 227,
   "id": "2884a257",
   "metadata": {},
   "outputs": [],
   "source": [
    "nsteps = 1000"
   ]
  },
  {
   "cell_type": "code",
   "execution_count": 228,
   "id": "65fe50fe",
   "metadata": {},
   "outputs": [],
   "source": [
    "draws = np.random.randint(0, 2, size=(nwalks, nsteps)) # 0 or 1"
   ]
  },
  {
   "cell_type": "code",
   "execution_count": 229,
   "id": "6babb3db",
   "metadata": {},
   "outputs": [],
   "source": [
    "steps = np.where(draws > 0, 1, -1)"
   ]
  },
  {
   "cell_type": "code",
   "execution_count": 231,
   "id": "cc19ea77",
   "metadata": {},
   "outputs": [],
   "source": [
    "walks = steps.cumsum(1)"
   ]
  },
  {
   "cell_type": "code",
   "execution_count": 232,
   "id": "78456a3b",
   "metadata": {},
   "outputs": [
    {
     "data": {
      "text/plain": [
       "array([[  1,   2,   3, ...,  46,  47,  46],\n",
       "       [  1,   0,   1, ...,  40,  41,  42],\n",
       "       [  1,   2,   3, ..., -26, -27, -28],\n",
       "       ...,\n",
       "       [  1,   0,   1, ...,  64,  65,  66],\n",
       "       [  1,   2,   1, ...,   2,   1,   0],\n",
       "       [ -1,  -2,  -3, ...,  32,  33,  34]])"
      ]
     },
     "execution_count": 232,
     "metadata": {},
     "output_type": "execute_result"
    }
   ],
   "source": [
    "walks"
   ]
  },
  {
   "cell_type": "code",
   "execution_count": 233,
   "id": "414f5a35",
   "metadata": {},
   "outputs": [],
   "source": [
    "# Agora podemos calcular os valores máximo e mínimo obtidos em todos os passeios:"
   ]
  },
  {
   "cell_type": "code",
   "execution_count": 234,
   "id": "9d02a4d4",
   "metadata": {},
   "outputs": [
    {
     "data": {
      "text/plain": [
       "122"
      ]
     },
     "execution_count": 234,
     "metadata": {},
     "output_type": "execute_result"
    }
   ],
   "source": [
    "# Máximo\n",
    "walks.max()"
   ]
  },
  {
   "cell_type": "code",
   "execution_count": 235,
   "id": "22111a78",
   "metadata": {},
   "outputs": [
    {
     "data": {
      "text/plain": [
       "-128"
      ]
     },
     "execution_count": 235,
     "metadata": {},
     "output_type": "execute_result"
    }
   ],
   "source": [
    "# Mínimo \n",
    "walks.min()"
   ]
  },
  {
   "cell_type": "markdown",
   "id": "b226ac43",
   "metadata": {},
   "source": [
    "##### Entre esses passeios, vamos calcular o tempo mínimo de cruzada para 30 ou -30.\n",
    "\n",
    "É um pouco complicado, pois nem todos os 5 mil alcançaram 30. Podemos verificar isso usando o método any:"
   ]
  },
  {
   "cell_type": "code",
   "execution_count": 236,
   "id": "136e384a",
   "metadata": {},
   "outputs": [],
   "source": [
    "hits30 = (np.abs(walks) >= 30).any(1)"
   ]
  },
  {
   "cell_type": "code",
   "execution_count": 237,
   "id": "cf43bd19",
   "metadata": {},
   "outputs": [
    {
     "data": {
      "text/plain": [
       "array([ True,  True,  True, ...,  True, False,  True])"
      ]
     },
     "execution_count": 237,
     "metadata": {},
     "output_type": "execute_result"
    }
   ],
   "source": [
    "hits30"
   ]
  },
  {
   "cell_type": "code",
   "execution_count": 238,
   "id": "1247e432",
   "metadata": {},
   "outputs": [
    {
     "data": {
      "text/plain": [
       "3368"
      ]
     },
     "execution_count": 238,
     "metadata": {},
     "output_type": "execute_result"
    }
   ],
   "source": [
    "hits30.sum() # Número que atinge 30 ou -30"
   ]
  },
  {
   "cell_type": "markdown",
   "id": "01bfb68a",
   "metadata": {},
   "source": [
    "##### Podemos utilizar esse array booleano para selecionar as linhas de walks que realmente cruzaram o nível abs de 30\n",
    "\n",
    "E chamar argmax no eixo 1 para obter os instantes de cruzada"
   ]
  },
  {
   "cell_type": "code",
   "execution_count": 239,
   "id": "810cae5c",
   "metadata": {},
   "outputs": [],
   "source": [
    "crossing_times = (np.abs(walks[hits30]) >= 30).argmax(1)"
   ]
  },
  {
   "cell_type": "code",
   "execution_count": 240,
   "id": "5287aebc",
   "metadata": {},
   "outputs": [
    {
     "data": {
      "text/plain": [
       "509.99762470308787"
      ]
     },
     "execution_count": 240,
     "metadata": {},
     "output_type": "execute_result"
    }
   ],
   "source": [
    "crossing_times.mean()"
   ]
  }
 ],
 "metadata": {
  "kernelspec": {
   "display_name": "Python 3 (ipykernel)",
   "language": "python",
   "name": "python3"
  },
  "language_info": {
   "codemirror_mode": {
    "name": "ipython",
    "version": 3
   },
   "file_extension": ".py",
   "mimetype": "text/x-python",
   "name": "python",
   "nbconvert_exporter": "python",
   "pygments_lexer": "ipython3",
   "version": "3.9.13"
  }
 },
 "nbformat": 4,
 "nbformat_minor": 5
}
